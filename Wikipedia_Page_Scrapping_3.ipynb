{
 "cells": [
  {
   "cell_type": "code",
   "execution_count": 56,
   "metadata": {},
   "outputs": [
    {
     "name": "stdout",
     "output_type": "stream",
     "text": [
      "Requirement already satisfied: wikipedia in c:\\users\\ammara\\anaconda3\\lib\\site-packages (1.4.0)\n",
      "Requirement already satisfied: beautifulsoup4 in c:\\users\\ammara\\anaconda3\\lib\\site-packages (from wikipedia) (4.11.1)\n",
      "Requirement already satisfied: requests<3.0.0,>=2.0.0 in c:\\users\\ammara\\anaconda3\\lib\\site-packages (from wikipedia) (2.27.1)\n",
      "Requirement already satisfied: urllib3<1.27,>=1.21.1 in c:\\users\\ammara\\anaconda3\\lib\\site-packages (from requests<3.0.0,>=2.0.0->wikipedia) (1.26.9)\n",
      "Requirement already satisfied: certifi>=2017.4.17 in c:\\users\\ammara\\anaconda3\\lib\\site-packages (from requests<3.0.0,>=2.0.0->wikipedia) (2021.10.8)\n",
      "Requirement already satisfied: idna<4,>=2.5 in c:\\users\\ammara\\anaconda3\\lib\\site-packages (from requests<3.0.0,>=2.0.0->wikipedia) (3.3)\n",
      "Requirement already satisfied: charset-normalizer~=2.0.0 in c:\\users\\ammara\\anaconda3\\lib\\site-packages (from requests<3.0.0,>=2.0.0->wikipedia) (2.0.4)\n",
      "Requirement already satisfied: soupsieve>1.2 in c:\\users\\ammara\\anaconda3\\lib\\site-packages (from beautifulsoup4->wikipedia) (2.3.1)\n"
     ]
    }
   ],
   "source": [
    "!pip install wikipedia"
   ]
  },
  {
   "cell_type": "code",
   "execution_count": 57,
   "metadata": {},
   "outputs": [],
   "source": [
    "import wikipedia as w\n",
    "import pandas as pd"
   ]
  },
  {
   "cell_type": "code",
   "execution_count": 58,
   "metadata": {},
   "outputs": [
    {
     "name": "stdout",
     "output_type": "stream",
     "text": [
      "Data science is an interdisciplinary field that uses scientific methods, processes, algorithms and systems to extract or extrapolate knowledge and insights from noisy, structured and unstructured data, and apply knowledge from data across a broad range of application domains. Data science is related to data mining, machine learning, big data, computational statistics and analytics.Data science is a \"concept to unify statistics, data analysis, informatics, and their related methods\" in order to \"understand and analyse actual phenomena\" with data. It uses techniques and theories drawn from many fields within the context of mathematics, statistics, computer science, information science, and domain knowledge. However, data science is different from computer science and information science. Turing Award winner Jim Gray imagined data science as a \"fourth paradigm\" of science (empirical, theoretical, computational, and now data-driven) and asserted that \"everything about science is changing because of the impact of information technology\" and the data deluge.A data scientist is someone who creates programming code and combines it with statistical knowledge to create insights from data.\n",
      "\n",
      "\n"
     ]
    }
   ],
   "source": [
    "print(w.summary(\"Data Science\"))"
   ]
  },
  {
   "cell_type": "code",
   "execution_count": 71,
   "metadata": {},
   "outputs": [
    {
     "data": {
      "text/plain": [
       "'Data science is an interdisciplinary field that uses scientific methods, processes, algorithms and systems to extract or extrapolate knowledge and insights from noisy, structured and unstructured data, and apply knowledge from data across a broad range of application domains. Data science is related to data mining, machine learning, big data, computational statistics and analytics.Data science is a \"concept to unify statistics, data analysis, informatics, and their related methods\" in order to \"understand and analyse actual phenomena\" with data. It uses techniques and theories drawn from many fields within the context of mathematics, statistics, computer science, information science, and domain knowledge. However, data science is different from computer science and information science. Turing Award winner Jim Gray imagined data science as a \"fourth paradigm\" of science (empirical, theoretical, computational, and now data-driven) and asserted that \"everything about science is changing because of the impact of information technology\" and the data deluge.A data scientist is someone who creates programming code and combines it with statistical knowledge to create insights from data.\\n\\n\\n== Foundations ==\\nData science is an interdisciplinary field focused on extracting knowledge from typically large data sets and applying the knowledge and insights from that data to solve problems in a wide range of application domains. The field encompasses preparing data for analysis, formulating data science problems, analyzing data, developing data-driven solutions, and presenting findings to inform high-level decisions in a broad range of application domains. As such, it incorporates skills from computer science, statistics, information science, mathematics, data visualization, information visualization, data sonification, data integration, graphic design, complex systems, communication and business. Statistician Nathan Yau, drawing on Ben Fry, also links data science to human–computer interaction: users should be able to intuitively control and explore data. In 2015, the American Statistical Association identified database management, statistics and machine learning, and distributed and parallel systems as the three emerging foundational professional communities.'"
      ]
     },
     "execution_count": 71,
     "metadata": {},
     "output_type": "execute_result"
    }
   ],
   "source": [
    "w.summary(\"Data Science\", sentences=100)"
   ]
  },
  {
   "cell_type": "code",
   "execution_count": 88,
   "metadata": {},
   "outputs": [
    {
     "data": {
      "text/plain": [
       "['Data science',\n",
       " 'Data',\n",
       " 'Master in Data Science',\n",
       " 'Data type',\n",
       " 'Data (computer science)',\n",
       " 'Data analysis',\n",
       " 'Big data',\n",
       " 'Fog Reveal',\n",
       " 'Computer science',\n",
       " 'Data structure']"
      ]
     },
     "execution_count": 88,
     "metadata": {},
     "output_type": "execute_result"
    }
   ],
   "source": [
    "result = w.search(\"Data Science \")\n",
    "result"
   ]
  },
  {
   "cell_type": "code",
   "execution_count": 89,
   "metadata": {},
   "outputs": [],
   "source": [
    "page = w.page(result[0])\n",
    "title = page.title\n",
    "content = page.content\n",
    "categories = page.categories\n",
    "links = page.links\n",
    "references = page.references\n",
    "summary = page.summary\n"
   ]
  },
  {
   "cell_type": "code",
   "execution_count": 90,
   "metadata": {},
   "outputs": [
    {
     "name": "stdout",
     "output_type": "stream",
     "text": [
      "Page content:\n",
      " Data science is an interdisciplinary field that uses scientific methods, processes, algorithms and systems to extract or extrapolate knowledge and insights from noisy, structured and unstructured data, and apply knowledge from data across a broad range of application domains. Data science is related to data mining, machine learning, big data, computational statistics and analytics.Data science is a \"concept to unify statistics, data analysis, informatics, and their related methods\" in order to \"understand and analyse actual phenomena\" with data. It uses techniques and theories drawn from many fields within the context of mathematics, statistics, computer science, information science, and domain knowledge. However, data science is different from computer science and information science. Turing Award winner Jim Gray imagined data science as a \"fourth paradigm\" of science (empirical, theoretical, computational, and now data-driven) and asserted that \"everything about science is changing because of the impact of information technology\" and the data deluge.A data scientist is someone who creates programming code and combines it with statistical knowledge to create insights from data.\n",
      "\n",
      "\n",
      "== Foundations ==\n",
      "Data science is an interdisciplinary field focused on extracting knowledge from typically large data sets and applying the knowledge and insights from that data to solve problems in a wide range of application domains. The field encompasses preparing data for analysis, formulating data science problems, analyzing data, developing data-driven solutions, and presenting findings to inform high-level decisions in a broad range of application domains. As such, it incorporates skills from computer science, statistics, information science, mathematics, data visualization, information visualization, data sonification, data integration, graphic design, complex systems, communication and business. Statistician Nathan Yau, drawing on Ben Fry, also links data science to human–computer interaction: users should be able to intuitively control and explore data. In 2015, the American Statistical Association identified database management, statistics and machine learning, and distributed and parallel systems as the three emerging foundational professional communities.\n",
      "\n",
      "\n",
      "=== Relationship to statistics ===\n",
      "Many statisticians, including Nate Silver, have argued that data science is not a new field, but rather another name for statistics. Others argue that data science is distinct from statistics because it focuses on problems and techniques unique to digital data. Vasant Dhar writes that statistics emphasizes quantitative data and description. In contrast, data science deals with quantitative and qualitative data (e.g. from images, text, sensors, transactions or customer information, etc) and emphasizes prediction and action. Andrew Gelman of Columbia University has described statistics as a nonessential part of data science.Stanford professor David Donoho writes that data science is not distinguished from statistics by the size of datasets or use of computing and that many graduate programs misleadingly advertise their analytics and statistics training as the essence of a data-science program. He describes data science as an applied field growing out of traditional statistics.\n",
      "\n",
      "\n",
      "== Etymology ==\n",
      "\n",
      "\n",
      "=== Early usage ===\n",
      "In 1962, John Tukey described a field he called \"data analysis\", which resembles modern data science. In 1985, in a lecture given to the Chinese Academy of Sciences in Beijing, C. F. Jeff Wu used the term \"data science\" for the first time as an alternative name for statistics. Later, attendees at a 1992 statistics symposium at the University of Montpellier II acknowledged the emergence of a new discipline focused on data of various origins and forms, combining established concepts and principles of statistics and data analysis with computing.The term \"data science\" has been traced back to 1974, when Peter Naur proposed it as an alternative name for computer science. In 1996, the International Federation of Classification Societies became the first conference to specifically feature data science as a topic. However, the definition was still in flux. After the 1985 lecture at the Chinese Academy of Sciences in Beijing, in 1997 C. F. Jeff Wu again suggested that statistics should be renamed data science. He reasoned that a new name would help statistics shed inaccurate stereotypes, such as being synonymous with accounting or limited to describing data. In 1998, Hayashi Chikio argued for data science as a new, interdisciplinary concept, with three aspects: data design, collection, and analysis.During the 1990s, popular terms for the process of finding patterns in datasets (which were increasingly large) included \"knowledge discovery\" and \"data mining\".\n",
      "\n",
      "\n",
      "=== Modern usage ===\n",
      "In 2012, technologists Thomas H. Davenport and DJ Patil declared \"Data Scientist: The Sexiest Job of the 21st Century\", a catch-phrase that was picked up even by major-city newspapers like the New York Times and the Boston Globe. A decade later, they reaffirmed it, stating \"the job is more in demand than ever with employers\".The modern conception of data science as an independent discipline is sometimes attributed to William S. Cleveland. In a 2001 paper, he advocated an expansion of statistics beyond theory into technical areas; because this would significantly change the field, it warranted a new name. \"Data science\" became more widely used in the next few years: in 2002, the Committee on Data for Science and Technology launched Data Science Journal. In 2003, Columbia University launched The Journal of Data Science. In 2014, the American Statistical Association's Section on Statistical Learning and Data Mining changed its name to the Section on Statistical Learning and Data Science, reflecting the ascendant popularity of data science.The professional title of \"data scientist\" has been attributed to DJ Patil and Jeff Hammerbacher in 2008. Though it was used by the National Science Board in their 2005 report \"Long-Lived Digital Data Collections: Enabling Research and Education in the 21st Century\", it referred broadly to any key role in managing a digital data collection.There is still no consensus on the definition of data science, and it is considered by some to be a buzzword. Big data is a related marketing term. Data scientists are responsible for breaking down big data into usable information and creating software and algorithms that help companies and organizations determine optimal operations.\n",
      "\n",
      "\n",
      "== See also ==\n",
      "Open Data Science Conference\n",
      "Scientific Data\n",
      "Women in Data\n",
      "\n",
      "\n",
      "== References == \n",
      "\n",
      "Page title: Data science \n",
      "\n",
      "Categories: ['Articles with short description', 'Computational fields of study', 'Computer occupations', 'Data analysis', 'Information science', 'Short description matches Wikidata', 'Use dmy dates from August 2021'] \n",
      "\n",
      "Links: ['Academic discipline', 'Algorithm', 'American Statistical Association', 'Analysis', 'Analytics', 'Andrew Gelman', 'Astronomical survey', 'Basic research', 'Ben Fry', 'Big data', 'Boston', 'Boston Globe', 'Business', 'Buzzword', 'C. F. Jeff Wu', 'Columbia University', 'Comet NEOWISE', 'Committee on Data for Science and Technology', 'Communication', 'Complex systems', 'Computational science', 'Computational statistics', 'Computer science', 'DJ Patil', 'Data', 'Data (computing)', 'Data analysis', 'Data archaeology', 'Data augmentation', 'Data cleansing', 'Data collection', 'Data compression', 'Data corruption', 'Data curation', 'Data degradation', 'Data editing', 'Data extraction', 'Data farming', 'Data format management', 'Data fusion', 'Data integration', 'Data integrity', 'Data library', 'Data lineage', 'Data loading', 'Data loss', 'Data management', 'Data migration', 'Data mining', 'Data philanthropy', 'Data pre-processing', 'Data preservation', 'Data publishing', 'Data quality', 'Data recovery', 'Data reduction', 'Data retention', 'Data scraping', 'Data scrubbing', 'Data security', 'Data set', 'Data sonification', 'Data steward', 'Data storage', 'Data transformation', 'Data validation', 'Data visualization', 'Data warehouse', 'Data wrangling', 'Database', 'David Donoho', 'Distributed computing', 'Doi (identifier)', 'Domain knowledge', 'Empirical research', 'Exploration', 'Extract, load, transform', 'Extract, transform, load', 'Graphic design', 'Harvard Business Review', 'Human–computer interaction', 'ISBN (identifier)', 'ISSN (identifier)', 'Informatics', 'Information explosion', 'Information privacy', 'Information science', 'Information technology', 'Information visualization', 'Interdisciplinarity', 'Interdisciplinary', 'Jeff Hammerbacher', 'Jeffrey T. Leek', 'Jim Gray (computer scientist)', 'John Tukey', 'Knowledge', 'Machine learning', 'Mathematics', 'Montpellier 2 University', 'Nate Silver', 'Nathan Yau', 'National Science Board', 'New York City', 'New York Times', 'OCLC (identifier)', 'ODSC', 'PMID (identifier)', 'Peter Naur', 'Phenomena', 'Problem solving', 'S2CID (identifier)', 'Scientific Data (journal)', 'Scientific method', 'Space telescope', 'Statistics', 'Thomas H. Davenport', 'Turing Award', 'Unstructured data', 'Vasant Dhar', 'Wide-field Infrared Survey Explorer', 'William S. Cleveland', 'Women in Data'] \n",
      "\n",
      "References: ['http://priceonomics.com/whats-the-difference-between-data-science-and/', 'http://www2.isye.gatech.edu/~jeffwu/presentations/datascience.pdf', 'http://courses.csail.mit.edu/18.337/2015/docs/50YearsDataScience.pdf', 'http://archive.nyu.edu/handle/2451/31553', 'http://pubmed.ncbi.nlm.nih.gov/19265007', 'http://pubmed.ncbi.nlm.nih.gov/23074866', 'http://cacm.acm.org/magazines/2013/12/169933-data-science-and-prediction/fulltext', 'http://www.datascienceassn.org/about-data-science', 'http://doi.org/10.1007%2F978-4-431-65950-1_3', 'http://doi.org/10.1126%2Fscience.1170411', 'http://doi.org/10.1145%2F2500499', 'http://doi.org/10.1145%2F3076253', 'http://doi.org/10.3390%2Fbdcc2020014', 'http://doi.org/10.3390%2Fmake1010015', 'http://simplystatistics.org/2013/12/12/the-key-word-in-data-science-is-not-data-it-is-science/', 'http://www.worldcat.org/issn/0017-8012', 'http://www.worldcat.org/issn/0036-8075', 'http://www.worldcat.org/issn/0360-0300', 'http://www.worldcat.org/oclc/489990740', 'https://benfry.com/phd/dissertation/2.html', 'https://www.bostonglobe.com/business/2015/11/11/behind-scenes-sexiest-job-century/Kc1cvXIu31DfHhVmyRQeIJ/story.html', 'https://flowingdata.com/2009/06/04/rise-of-the-data-scientist/', 'https://www.forbes.com/sites/gilpress/2013/05/28/a-very-short-history-of-data-science/', 'https://www.forbes.com/sites/gilpress/2013/08/19/data-science-whats-the-half-life-of-a-buzzword/', 'https://www.forbes.com/sites/peterpham/2015/08/28/the-impacts-of-big-data-that-you-may-not-have-heard-of/', 'https://books.google.com/books?id=oGs_AQAAIAAJ', 'https://medriscoll.com/post/4740157098/the-three-sexy-skills-of-data-geeks', 'https://www.nytimes.com/2013/04/14/education/edlife/universities-offer-courses-in-a-hot-new-field-data-science.html', 'https://www.oreilly.com/library/view/doing-data-science/9781449363871/ch01.html', 'https://www.springer.com/book/9784431702085', 'https://www.statisticsviews.com/article/nate-silver-what-i-need-from-statisticians/', 'https://towardsdatascience.com/how-data-science-will-impact-future-of-businesses-7f11f5699c4d', 'https://statmodeling.stat.columbia.edu/2013/11/14/statistics-least-important-part-data-science/', 'https://www2.isye.gatech.edu/~jeffwu/publications/fazhan.pdf', 'https://www.stat.purdue.edu/~wsc/', 'https://www.nsf.gov/pubs/2005/nsb0540/', 'https://magazine.amstat.org/blog/2015/10/01/asa-statement-on-the-role-of-statistics-in-data-science/', 'https://magazine.amstat.org/blog/2016/06/01/datascience-2/', 'https://web.archive.org/web/20140102194117/http://simplystatistics.org/2013/12/12/the-key-word-in-data-science-is-not-data-it-is-science/', 'https://web.archive.org/web/20141109113411/http://cacm.acm.org/magazines/2013/12/169933-data-science-and-prediction/fulltext', 'https://web.archive.org/web/20170320193019/https://books.google.com/books?id=oGs_AQAAIAAJ', 'https://web.archive.org/web/20190620184935/https://magazine.amstat.org/blog/2015/10/01/asa-statement-on-the-role-of-statistics-in-data-science/', 'https://web.archive.org/web/20200810114002/http://www.datascienceassn.org/about-data-science', 'https://hbr.org/2012/10/data-scientist-the-sexiest-job-of-the-21st-century', 'https://hbr.org/2012/10/data-scientist-the-sexiest-job-of-the-21st-century/', 'https://hbr.org/2022/07/is-data-scientist-still-the-sexiest-job-of-the-21st-century', 'https://api.semanticscholar.org/CorpusID:207595944', 'https://api.semanticscholar.org/CorpusID:6107147', 'https://api.semanticscholar.org/CorpusID:9743327'] \n",
      "\n",
      "Summary: Data science is an interdisciplinary field that uses scientific methods, processes, algorithms and systems to extract or extrapolate knowledge and insights from noisy, structured and unstructured data, and apply knowledge from data across a broad range of application domains. Data science is related to data mining, machine learning, big data, computational statistics and analytics.Data science is a \"concept to unify statistics, data analysis, informatics, and their related methods\" in order to \"understand and analyse actual phenomena\" with data. It uses techniques and theories drawn from many fields within the context of mathematics, statistics, computer science, information science, and domain knowledge. However, data science is different from computer science and information science. Turing Award winner Jim Gray imagined data science as a \"fourth paradigm\" of science (empirical, theoretical, computational, and now data-driven) and asserted that \"everything about science is changing because of the impact of information technology\" and the data deluge.A data scientist is someone who creates programming code and combines it with statistical knowledge to create insights from data.\n",
      "\n",
      " \n",
      "\n"
     ]
    }
   ],
   "source": [
    "# print info\n",
    "print(\"Page content:\\n\", content, \"\\n\")\n",
    "print(\"Page title:\", title, \"\\n\")\n",
    "print(\"Categories:\", categories, \"\\n\")\n",
    "print(\"Links:\", links, \"\\n\")\n",
    "print(\"References:\", references, \"\\n\")\n",
    "print(\"Summary:\", summary, \"\\n\")"
   ]
  },
  {
   "cell_type": "code",
   "execution_count": 91,
   "metadata": {},
   "outputs": [
    {
     "name": "stdout",
     "output_type": "stream",
     "text": [
      "Links: ['Academic discipline', 'Algorithm', 'American Statistical Association', 'Analysis', 'Analytics', 'Andrew Gelman', 'Astronomical survey', 'Basic research', 'Ben Fry', 'Big data', 'Boston', 'Boston Globe', 'Business', 'Buzzword', 'C. F. Jeff Wu', 'Columbia University', 'Comet NEOWISE', 'Committee on Data for Science and Technology', 'Communication', 'Complex systems', 'Computational science', 'Computational statistics', 'Computer science', 'DJ Patil', 'Data', 'Data (computing)', 'Data analysis', 'Data archaeology', 'Data augmentation', 'Data cleansing', 'Data collection', 'Data compression', 'Data corruption', 'Data curation', 'Data degradation', 'Data editing', 'Data extraction', 'Data farming', 'Data format management', 'Data fusion', 'Data integration', 'Data integrity', 'Data library', 'Data lineage', 'Data loading', 'Data loss', 'Data management', 'Data migration', 'Data mining', 'Data philanthropy', 'Data pre-processing', 'Data preservation', 'Data publishing', 'Data quality', 'Data recovery', 'Data reduction', 'Data retention', 'Data scraping', 'Data scrubbing', 'Data security', 'Data set', 'Data sonification', 'Data steward', 'Data storage', 'Data transformation', 'Data validation', 'Data visualization', 'Data warehouse', 'Data wrangling', 'Database', 'David Donoho', 'Distributed computing', 'Doi (identifier)', 'Domain knowledge', 'Empirical research', 'Exploration', 'Extract, load, transform', 'Extract, transform, load', 'Graphic design', 'Harvard Business Review', 'Human–computer interaction', 'ISBN (identifier)', 'ISSN (identifier)', 'Informatics', 'Information explosion', 'Information privacy', 'Information science', 'Information technology', 'Information visualization', 'Interdisciplinarity', 'Interdisciplinary', 'Jeff Hammerbacher', 'Jeffrey T. Leek', 'Jim Gray (computer scientist)', 'John Tukey', 'Knowledge', 'Machine learning', 'Mathematics', 'Montpellier 2 University', 'Nate Silver', 'Nathan Yau', 'National Science Board', 'New York City', 'New York Times', 'OCLC (identifier)', 'ODSC', 'PMID (identifier)', 'Peter Naur', 'Phenomena', 'Problem solving', 'S2CID (identifier)', 'Scientific Data (journal)', 'Scientific method', 'Space telescope', 'Statistics', 'Thomas H. Davenport', 'Turing Award', 'Unstructured data', 'Vasant Dhar', 'Wide-field Infrared Survey Explorer', 'William S. Cleveland', 'Women in Data'] \n",
      "\n"
     ]
    }
   ],
   "source": [
    "print(\"Links:\", links, \"\\n\")"
   ]
  },
  {
   "cell_type": "code",
   "execution_count": 92,
   "metadata": {},
   "outputs": [
    {
     "name": "stdout",
     "output_type": "stream",
     "text": [
      "Links: Academic discipline , Algorithm , American Statistical Association , Analysis , Analytics , Andrew Gelman , Astronomical survey , Basic research , Ben Fry , Big data , Boston , Boston Globe , Business , Buzzword , C. F. Jeff Wu , Columbia University , Comet NEOWISE , Committee on Data for Science and Technology , Communication , Complex systems , Computational science , Computational statistics , Computer science , DJ Patil , Data , Data (computing) , Data analysis , Data archaeology , Data augmentation , Data cleansing , Data collection , Data compression , Data corruption , Data curation , Data degradation , Data editing , Data extraction , Data farming , Data format management , Data fusion , Data integration , Data integrity , Data library , Data lineage , Data loading , Data loss , Data management , Data migration , Data mining , Data philanthropy , Data pre-processing , Data preservation , Data publishing , Data quality , Data recovery , Data reduction , Data retention , Data scraping , Data scrubbing , Data security , Data set , Data sonification , Data steward , Data storage , Data transformation , Data validation , Data visualization , Data warehouse , Data wrangling , Database , David Donoho , Distributed computing , Doi (identifier) , Domain knowledge , Empirical research , Exploration , Extract, load, transform , Extract, transform, load , Graphic design , Harvard Business Review , Human–computer interaction , ISBN (identifier) , ISSN (identifier) , Informatics , Information explosion , Information privacy , Information science , Information technology , Information visualization , Interdisciplinarity , Interdisciplinary , Jeff Hammerbacher , Jeffrey T. Leek , Jim Gray (computer scientist) , John Tukey , Knowledge , Machine learning , Mathematics , Montpellier 2 University , Nate Silver , Nathan Yau , National Science Board , New York City , New York Times , OCLC (identifier) , ODSC , PMID (identifier) , Peter Naur , Phenomena , Problem solving , S2CID (identifier) , Scientific Data (journal) , Scientific method , Space telescope , Statistics , Thomas H. Davenport , Turing Award , Unstructured data , Vasant Dhar , Wide-field Infrared Survey Explorer , William S. Cleveland , Women in Data \n",
      "\n"
     ]
    }
   ],
   "source": [
    "print(\"Links:\", \" , \" .join(links), \"\\n\")"
   ]
  },
  {
   "cell_type": "code",
   "execution_count": 93,
   "metadata": {},
   "outputs": [
    {
     "name": "stdout",
     "output_type": "stream",
     "text": [
      "Page content:\n",
      " Data science is an interdisciplinary field that uses scientific methods, processes, algorithms and systems to extract or extrapolate knowledge and insights from noisy, structured and unstructured data, and apply knowledge from data across a broad range of application domains. Data science is related to data mining, machine learning, big data, computational statistics and analytics.Data science is a \"concept to unify statistics, data analysis, informatics, and their related methods\" in order to \"understand and analyse actual phenomena\" with data. It uses techniques and theories drawn from many fields within the context of mathematics, statistics, computer science, information science, and domain knowledge. However, data science is different from computer science and information science. Turing Award winner Jim Gray imagined data science as a \"fourth paradigm\" of science (empirical, theoretical, computational, and now data-driven) and asserted that \"everything about science is changing because of the impact of information technology\" and the data deluge.A data scientist is someone who creates programming code and combines it with statistical knowledge to create insights from data.\n",
      "\n",
      "\n",
      "== Foundations ==\n",
      "Data science is an interdisciplinary field focused on extracting knowledge from typically large data sets and applying the knowledge and insights from that data to solve problems in a wide range of application domains. The field encompasses preparing data for analysis, formulating data science problems, analyzing data, developing data-driven solutions, and presenting findings to inform high-level decisions in a broad range of application domains. As such, it incorporates skills from computer science, statistics, information science, mathematics, data visualization, information visualization, data sonification, data integration, graphic design, complex systems, communication and business. Statistician Nathan Yau, drawing on Ben Fry, also links data science to human–computer interaction: users should be able to intuitively control and explore data. In 2015, the American Statistical Association identified database management, statistics and machine learning, and distributed and parallel systems as the three emerging foundational professional communities.\n",
      "\n",
      "\n",
      "=== Relationship to statistics ===\n",
      "Many statisticians, including Nate Silver, have argued that data science is not a new field, but rather another name for statistics. Others argue that data science is distinct from statistics because it focuses on problems and techniques unique to digital data. Vasant Dhar writes that statistics emphasizes quantitative data and description. In contrast, data science deals with quantitative and qualitative data (e.g. from images, text, sensors, transactions or customer information, etc) and emphasizes prediction and action. Andrew Gelman of Columbia University has described statistics as a nonessential part of data science.Stanford professor David Donoho writes that data science is not distinguished from statistics by the size of datasets or use of computing and that many graduate programs misleadingly advertise their analytics and statistics training as the essence of a data-science program. He describes data science as an applied field growing out of traditional statistics.\n",
      "\n",
      "\n",
      "== Etymology ==\n",
      "\n",
      "\n",
      "=== Early usage ===\n",
      "In 1962, John Tukey described a field he called \"data analysis\", which resembles modern data science. In 1985, in a lecture given to the Chinese Academy of Sciences in Beijing, C. F. Jeff Wu used the term \"data science\" for the first time as an alternative name for statistics. Later, attendees at a 1992 statistics symposium at the University of Montpellier II acknowledged the emergence of a new discipline focused on data of various origins and forms, combining established concepts and principles of statistics and data analysis with computing.The term \"data science\" has been traced back to 1974, when Peter Naur proposed it as an alternative name for computer science. In 1996, the International Federation of Classification Societies became the first conference to specifically feature data science as a topic. However, the definition was still in flux. After the 1985 lecture at the Chinese Academy of Sciences in Beijing, in 1997 C. F. Jeff Wu again suggested that statistics should be renamed data science. He reasoned that a new name would help statistics shed inaccurate stereotypes, such as being synonymous with accounting or limited to describing data. In 1998, Hayashi Chikio argued for data science as a new, interdisciplinary concept, with three aspects: data design, collection, and analysis.During the 1990s, popular terms for the process of finding patterns in datasets (which were increasingly large) included \"knowledge discovery\" and \"data mining\".\n",
      "\n",
      "\n",
      "=== Modern usage ===\n",
      "In 2012, technologists Thomas H. Davenport and DJ Patil declared \"Data Scientist: The Sexiest Job of the 21st Century\", a catch-phrase that was picked up even by major-city newspapers like the New York Times and the Boston Globe. A decade later, they reaffirmed it, stating \"the job is more in demand than ever with employers\".The modern conception of data science as an independent discipline is sometimes attributed to William S. Cleveland. In a 2001 paper, he advocated an expansion of statistics beyond theory into technical areas; because this would significantly change the field, it warranted a new name. \"Data science\" became more widely used in the next few years: in 2002, the Committee on Data for Science and Technology launched Data Science Journal. In 2003, Columbia University launched The Journal of Data Science. In 2014, the American Statistical Association's Section on Statistical Learning and Data Mining changed its name to the Section on Statistical Learning and Data Science, reflecting the ascendant popularity of data science.The professional title of \"data scientist\" has been attributed to DJ Patil and Jeff Hammerbacher in 2008. Though it was used by the National Science Board in their 2005 report \"Long-Lived Digital Data Collections: Enabling Research and Education in the 21st Century\", it referred broadly to any key role in managing a digital data collection.There is still no consensus on the definition of data science, and it is considered by some to be a buzzword. Big data is a related marketing term. Data scientists are responsible for breaking down big data into usable information and creating software and algorithms that help companies and organizations determine optimal operations.\n",
      "\n",
      "\n",
      "== See also ==\n",
      "Open Data Science Conference\n",
      "Scientific Data\n",
      "Women in Data\n",
      "\n",
      "\n",
      "== References == \n",
      "\n"
     ]
    }
   ],
   "source": [
    "print(\"Page content:\\n\", content, \"\\n\")"
   ]
  },
  {
   "cell_type": "code",
   "execution_count": 94,
   "metadata": {},
   "outputs": [
    {
     "data": {
      "text/plain": [
       "'Data science is an interdisciplinary field that uses scientific methods, processes, algorithms and systems to extract or extrapolate knowledge and insights from noisy, structured and unstructured data, and apply knowledge from data across a broad range of application domains. Data science is related to data mining, machine learning, big data, computational statistics and analytics.Data science is a \"concept to unify statistics, data analysis, informatics, and their related methods\" in order to \"understand and analyse actual phenomena\" with data. It uses techniques and theories drawn from many fields within the context of mathematics, statistics, computer science, information science, and domain knowledge. However, data science is different from computer science and information science. Turing Award winner Jim Gray imagined data science as a \"fourth paradigm\" of science (empirical, theoretical, computational, and now data-driven) and asserted that \"everything about science is changing because of the impact of information technology\" and the data deluge.A data scientist is someone who creates programming code and combines it with statistical knowledge to create insights from data.\\n\\n'"
      ]
     },
     "execution_count": 94,
     "metadata": {},
     "output_type": "execute_result"
    }
   ],
   "source": [
    "\"\" .join(summary)"
   ]
  },
  {
   "cell_type": "code",
   "execution_count": 95,
   "metadata": {},
   "outputs": [],
   "source": [
    "df_wiki = pd.DataFrame(columns=['Page content', 'Title','Categories','Link','References','Summary' ])\n",
    "df_wiki['Page content']=[ \"\" .join(content),]\n",
    "df_wiki['Title']= [\"\" .join(title)]\n",
    "df_wiki['Categories']= [\" , \" .join(categories)]\n",
    "df_wiki['Link']=[ \" , \" .join(links)]\n",
    "df_wiki['References']= [\" , \" .join(references)]\n",
    "df_wiki['Summary']= [\"\" .join(summary)]"
   ]
  },
  {
   "cell_type": "code",
   "execution_count": 96,
   "metadata": {},
   "outputs": [
    {
     "data": {
      "text/html": [
       "<div>\n",
       "<style scoped>\n",
       "    .dataframe tbody tr th:only-of-type {\n",
       "        vertical-align: middle;\n",
       "    }\n",
       "\n",
       "    .dataframe tbody tr th {\n",
       "        vertical-align: top;\n",
       "    }\n",
       "\n",
       "    .dataframe thead th {\n",
       "        text-align: right;\n",
       "    }\n",
       "</style>\n",
       "<table border=\"1\" class=\"dataframe\">\n",
       "  <thead>\n",
       "    <tr style=\"text-align: right;\">\n",
       "      <th></th>\n",
       "      <th>Page content</th>\n",
       "      <th>Title</th>\n",
       "      <th>Categories</th>\n",
       "      <th>Link</th>\n",
       "      <th>References</th>\n",
       "      <th>Summary</th>\n",
       "    </tr>\n",
       "  </thead>\n",
       "  <tbody>\n",
       "    <tr>\n",
       "      <th>0</th>\n",
       "      <td>Data science is an interdisciplinary field tha...</td>\n",
       "      <td>Data science</td>\n",
       "      <td>Articles with short description , Computationa...</td>\n",
       "      <td>Academic discipline , Algorithm , American Sta...</td>\n",
       "      <td>http://priceonomics.com/whats-the-difference-b...</td>\n",
       "      <td>Data science is an interdisciplinary field tha...</td>\n",
       "    </tr>\n",
       "  </tbody>\n",
       "</table>\n",
       "</div>"
      ],
      "text/plain": [
       "                                        Page content         Title  \\\n",
       "0  Data science is an interdisciplinary field tha...  Data science   \n",
       "\n",
       "                                          Categories  \\\n",
       "0  Articles with short description , Computationa...   \n",
       "\n",
       "                                                Link  \\\n",
       "0  Academic discipline , Algorithm , American Sta...   \n",
       "\n",
       "                                          References  \\\n",
       "0  http://priceonomics.com/whats-the-difference-b...   \n",
       "\n",
       "                                             Summary  \n",
       "0  Data science is an interdisciplinary field tha...  "
      ]
     },
     "execution_count": 96,
     "metadata": {},
     "output_type": "execute_result"
    }
   ],
   "source": [
    "df_wiki"
   ]
  },
  {
   "cell_type": "code",
   "execution_count": 97,
   "metadata": {},
   "outputs": [
    {
     "data": {
      "text/plain": [
       "'Academic discipline , Algorithm , American Statistical Association , Analysis , Analytics , Andrew Gelman , Astronomical survey , Basic research , Ben Fry , Big data , Boston , Boston Globe , Business , Buzzword , C. F. Jeff Wu , Columbia University , Comet NEOWISE , Committee on Data for Science and Technology , Communication , Complex systems , Computational science , Computational statistics , Computer science , DJ Patil , Data , Data (computing) , Data analysis , Data archaeology , Data augmentation , Data cleansing , Data collection , Data compression , Data corruption , Data curation , Data degradation , Data editing , Data extraction , Data farming , Data format management , Data fusion , Data integration , Data integrity , Data library , Data lineage , Data loading , Data loss , Data management , Data migration , Data mining , Data philanthropy , Data pre-processing , Data preservation , Data publishing , Data quality , Data recovery , Data reduction , Data retention , Data scraping , Data scrubbing , Data security , Data set , Data sonification , Data steward , Data storage , Data transformation , Data validation , Data visualization , Data warehouse , Data wrangling , Database , David Donoho , Distributed computing , Doi (identifier) , Domain knowledge , Empirical research , Exploration , Extract, load, transform , Extract, transform, load , Graphic design , Harvard Business Review , Human–computer interaction , ISBN (identifier) , ISSN (identifier) , Informatics , Information explosion , Information privacy , Information science , Information technology , Information visualization , Interdisciplinarity , Interdisciplinary , Jeff Hammerbacher , Jeffrey T. Leek , Jim Gray (computer scientist) , John Tukey , Knowledge , Machine learning , Mathematics , Montpellier 2 University , Nate Silver , Nathan Yau , National Science Board , New York City , New York Times , OCLC (identifier) , ODSC , PMID (identifier) , Peter Naur , Phenomena , Problem solving , S2CID (identifier) , Scientific Data (journal) , Scientific method , Space telescope , Statistics , Thomas H. Davenport , Turing Award , Unstructured data , Vasant Dhar , Wide-field Infrared Survey Explorer , William S. Cleveland , Women in Data'"
      ]
     },
     "execution_count": 97,
     "metadata": {},
     "output_type": "execute_result"
    }
   ],
   "source": [
    "df_wiki['Link'].iloc[0]"
   ]
  },
  {
   "cell_type": "code",
   "execution_count": 98,
   "metadata": {},
   "outputs": [
    {
     "data": {
      "text/plain": [
       "'Data science is an interdisciplinary field that uses scientific methods, processes, algorithms and systems to extract or extrapolate knowledge and insights from noisy, structured and unstructured data, and apply knowledge from data across a broad range of application domains. Data science is related to data mining, machine learning, big data, computational statistics and analytics.Data science is a \"concept to unify statistics, data analysis, informatics, and their related methods\" in order to \"understand and analyse actual phenomena\" with data. It uses techniques and theories drawn from many fields within the context of mathematics, statistics, computer science, information science, and domain knowledge. However, data science is different from computer science and information science. Turing Award winner Jim Gray imagined data science as a \"fourth paradigm\" of science (empirical, theoretical, computational, and now data-driven) and asserted that \"everything about science is changing because of the impact of information technology\" and the data deluge.A data scientist is someone who creates programming code and combines it with statistical knowledge to create insights from data.\\n\\n\\n== Foundations ==\\nData science is an interdisciplinary field focused on extracting knowledge from typically large data sets and applying the knowledge and insights from that data to solve problems in a wide range of application domains. The field encompasses preparing data for analysis, formulating data science problems, analyzing data, developing data-driven solutions, and presenting findings to inform high-level decisions in a broad range of application domains. As such, it incorporates skills from computer science, statistics, information science, mathematics, data visualization, information visualization, data sonification, data integration, graphic design, complex systems, communication and business. Statistician Nathan Yau, drawing on Ben Fry, also links data science to human–computer interaction: users should be able to intuitively control and explore data. In 2015, the American Statistical Association identified database management, statistics and machine learning, and distributed and parallel systems as the three emerging foundational professional communities.\\n\\n\\n=== Relationship to statistics ===\\nMany statisticians, including Nate Silver, have argued that data science is not a new field, but rather another name for statistics. Others argue that data science is distinct from statistics because it focuses on problems and techniques unique to digital data. Vasant Dhar writes that statistics emphasizes quantitative data and description. In contrast, data science deals with quantitative and qualitative data (e.g. from images, text, sensors, transactions or customer information, etc) and emphasizes prediction and action. Andrew Gelman of Columbia University has described statistics as a nonessential part of data science.Stanford professor David Donoho writes that data science is not distinguished from statistics by the size of datasets or use of computing and that many graduate programs misleadingly advertise their analytics and statistics training as the essence of a data-science program. He describes data science as an applied field growing out of traditional statistics.\\n\\n\\n== Etymology ==\\n\\n\\n=== Early usage ===\\nIn 1962, John Tukey described a field he called \"data analysis\", which resembles modern data science. In 1985, in a lecture given to the Chinese Academy of Sciences in Beijing, C. F. Jeff Wu used the term \"data science\" for the first time as an alternative name for statistics. Later, attendees at a 1992 statistics symposium at the University of Montpellier II acknowledged the emergence of a new discipline focused on data of various origins and forms, combining established concepts and principles of statistics and data analysis with computing.The term \"data science\" has been traced back to 1974, when Peter Naur proposed it as an alternative name for computer science. In 1996, the International Federation of Classification Societies became the first conference to specifically feature data science as a topic. However, the definition was still in flux. After the 1985 lecture at the Chinese Academy of Sciences in Beijing, in 1997 C. F. Jeff Wu again suggested that statistics should be renamed data science. He reasoned that a new name would help statistics shed inaccurate stereotypes, such as being synonymous with accounting or limited to describing data. In 1998, Hayashi Chikio argued for data science as a new, interdisciplinary concept, with three aspects: data design, collection, and analysis.During the 1990s, popular terms for the process of finding patterns in datasets (which were increasingly large) included \"knowledge discovery\" and \"data mining\".\\n\\n\\n=== Modern usage ===\\nIn 2012, technologists Thomas H. Davenport and DJ Patil declared \"Data Scientist: The Sexiest Job of the 21st Century\", a catch-phrase that was picked up even by major-city newspapers like the New York Times and the Boston Globe. A decade later, they reaffirmed it, stating \"the job is more in demand than ever with employers\".The modern conception of data science as an independent discipline is sometimes attributed to William S. Cleveland. In a 2001 paper, he advocated an expansion of statistics beyond theory into technical areas; because this would significantly change the field, it warranted a new name. \"Data science\" became more widely used in the next few years: in 2002, the Committee on Data for Science and Technology launched Data Science Journal. In 2003, Columbia University launched The Journal of Data Science. In 2014, the American Statistical Association\\'s Section on Statistical Learning and Data Mining changed its name to the Section on Statistical Learning and Data Science, reflecting the ascendant popularity of data science.The professional title of \"data scientist\" has been attributed to DJ Patil and Jeff Hammerbacher in 2008. Though it was used by the National Science Board in their 2005 report \"Long-Lived Digital Data Collections: Enabling Research and Education in the 21st Century\", it referred broadly to any key role in managing a digital data collection.There is still no consensus on the definition of data science, and it is considered by some to be a buzzword. Big data is a related marketing term. Data scientists are responsible for breaking down big data into usable information and creating software and algorithms that help companies and organizations determine optimal operations.\\n\\n\\n== See also ==\\nOpen Data Science Conference\\nScientific Data\\nWomen in Data\\n\\n\\n== References =='"
      ]
     },
     "execution_count": 98,
     "metadata": {},
     "output_type": "execute_result"
    }
   ],
   "source": [
    "df_wiki['Page content'].iloc[0]"
   ]
  },
  {
   "cell_type": "code",
   "execution_count": 99,
   "metadata": {},
   "outputs": [],
   "source": [
    "df_wiki.to_csv(\"save_data.csv\", index=False)"
   ]
  },
  {
   "cell_type": "code",
   "execution_count": 100,
   "metadata": {},
   "outputs": [],
   "source": [
    "df_new_wiki= pd.read_csv(\"save_data.csv\")"
   ]
  },
  {
   "cell_type": "code",
   "execution_count": 101,
   "metadata": {},
   "outputs": [
    {
     "data": {
      "text/html": [
       "<div>\n",
       "<style scoped>\n",
       "    .dataframe tbody tr th:only-of-type {\n",
       "        vertical-align: middle;\n",
       "    }\n",
       "\n",
       "    .dataframe tbody tr th {\n",
       "        vertical-align: top;\n",
       "    }\n",
       "\n",
       "    .dataframe thead th {\n",
       "        text-align: right;\n",
       "    }\n",
       "</style>\n",
       "<table border=\"1\" class=\"dataframe\">\n",
       "  <thead>\n",
       "    <tr style=\"text-align: right;\">\n",
       "      <th></th>\n",
       "      <th>Page content</th>\n",
       "      <th>Title</th>\n",
       "      <th>Categories</th>\n",
       "      <th>Link</th>\n",
       "      <th>References</th>\n",
       "      <th>Summary</th>\n",
       "    </tr>\n",
       "  </thead>\n",
       "  <tbody>\n",
       "    <tr>\n",
       "      <th>0</th>\n",
       "      <td>Data science is an interdisciplinary field tha...</td>\n",
       "      <td>Data science</td>\n",
       "      <td>Articles with short description , Computationa...</td>\n",
       "      <td>Academic discipline , Algorithm , American Sta...</td>\n",
       "      <td>http://priceonomics.com/whats-the-difference-b...</td>\n",
       "      <td>Data science is an interdisciplinary field tha...</td>\n",
       "    </tr>\n",
       "  </tbody>\n",
       "</table>\n",
       "</div>"
      ],
      "text/plain": [
       "                                        Page content         Title  \\\n",
       "0  Data science is an interdisciplinary field tha...  Data science   \n",
       "\n",
       "                                          Categories  \\\n",
       "0  Articles with short description , Computationa...   \n",
       "\n",
       "                                                Link  \\\n",
       "0  Academic discipline , Algorithm , American Sta...   \n",
       "\n",
       "                                          References  \\\n",
       "0  http://priceonomics.com/whats-the-difference-b...   \n",
       "\n",
       "                                             Summary  \n",
       "0  Data science is an interdisciplinary field tha...  "
      ]
     },
     "execution_count": 101,
     "metadata": {},
     "output_type": "execute_result"
    }
   ],
   "source": [
    "df_new_wiki.head()"
   ]
  },
  {
   "cell_type": "code",
   "execution_count": 86,
   "metadata": {},
   "outputs": [
    {
     "data": {
      "text/plain": [
       "'The COVID-19 pandemic affected educational systems worldwide, leading to the near-total closures of schools, early childhood education and care (ECEC) services, universities and colleges. \\nMost governments decided to temporarily close educational institutions in an attempt to reduce the spread of COVID-19. As of 12 January 2021, approximately 825 million learners are currently affected due to school closures in response to the pandemic. According to UNICEF monitoring, 23 countries at one time implemented nationwide closures and 40 had local closures, impacting about 47 percent of the world\\'s student population. 112 countries\\' schools were open.Scarcer education options impacted people with few financial resources, while those with more found education.  New online programs shifted the labor of education from schools to families and individuals, and consequently, people everywhere who relied on schools rather than computers and homeschooling had more difficulty.  Early childhood education and care (ECEC) as well as school closures impacted students, teachers, and families, and far-reaching economic and societal consequences are expected. School closures shed light on various social and economic issues, including student debt, digital learning, food security, and homelessness, as well as access to childcare, health care, housing, internet, and disability services. The impact was more severe for disadvantaged children and their families, causing interrupted learning, compromised nutrition, childcare problems, and consequent economic cost to families who could not work.In response to school closures, UNESCO recommended the use of distance learning programmes and open educational applications and platforms that schools and teachers can use to reach learners remotely and limit the disruption of education.\\n\\n\\n== Past school closures ==\\n\\nEfforts to slow the spread of COVID-19 through non-pharmaceutical interventions and preventive measures such as social-distancing and self-isolation have prompted the widespread closure of primary, secondary, and tertiary schooling in over 100 countries.Previous outbreaks of infectious diseases have prompted widespread school closings around the world, with varying levels of effectiveness.  Mathematical models have shown that transmission may be delayed by closing schools. However, effectiveness depends on the contacts children maintain outside of school. School closures appear effective in decreasing cases and deaths, particularly when enacted promptly. If school closures occur late relative to an outbreak, they are less effective and may not have any impact at all. Additionally, in some cases, the reopening of schools after a period of closure has resulted in increased infection rates. As closures tend to occur concurrently with other interventions such as public gathering bans, it can be difficult to measure the specific impact of school closures.During the 1918–1919 influenza pandemic in the United States, school closures and public gathering bans were associated with lower total mortality rates. Cities that implemented such interventions earlier had greater delays in reaching peak mortality rates. Schools closed for a median duration of 4 weeks according to a study of 43 US cities\\' response to the Spanish Flu. School closures were shown to reduce morbidity from the Asian flu by 90% during the 1957–58 outbreak, and up to 50% in controlling influenza in the US, 2004–2008.Multiple countries successfully slowed the spread of infection through school closures during the 2009 H1N1 Flu pandemic. School closures in the city of Oita, Japan, were found to have successfully decreased the number of infected students at the peak of infection; however closing schools was not found to have significantly decreased the total number of infected students. Mandatory school closures and other social distancing measures were associated with a 29% to 37% reduction in influenza transmission rates. Early school closures in the United States delayed the peak of the 2009 H1N1 Flu pandemic. Despite the overall success of closing schools, a study of school closures in Michigan found that \"district level reactive school closures were ineffective.\"\\n\\nDuring the swine flu outbreak in 2009 in the UK, in an article titled \"Closure of schools during an influenza pandemic\" published in the Lancet Infectious Diseases, a group of epidemiologists endorsed the closure of schools in order to interrupt the course of the infection, slow further spread and buy time to research and produce a vaccine. Having studied previous influenza pandemics including the 1918 flu pandemic, the influenza pandemic of 1957 and the 1968 flu pandemic, they reported on the economic and workforce effect school closure would have, particularly with a large percentage of doctors and nurses being women, of whom half had children under the age of 16. They also looked at the dynamics of the spread of influenza in France during French school holidays and noted that cases of flu dropped when schools closed and re-emerged when they re-opened. They noted that when teachers in Israel went on strike during the flu season of 1999–2000, visits to doctors and the number of respiratory infections dropped by more than a fifth and more than two fifths respectively.\\n\\n\\n== Hazard controls ==\\n\\nFor schools and childcare facilities, the U.S. Centers for Disease Control and Prevention recommends short-term closure to clean or disinfect if an infected person has been in a school building regardless of community spread. When there is minimal to moderate community transmission, social distancing strategies can be implemented such as postponing or cancelling field trips, assemblies, and other large gatherings such as physical education or choir classes or meals in a cafeteria, increasing the space between desks, staggering arrival and dismissal times, limiting nonessential visitors, and using a separate health office location for children with flu-like symptoms. When there is substantial transmission in the local community, in addition to social distancing strategies, extended school dismissals may be considered.As the pandemic progresses, schools may continue with remote learning or decide to reopen. Strategies such as cohorting, rotating schedules, eating lunch in the classroom, and utilizing outdoor spaces are some ways to minimize close contact. Additional precautions include face masks, hand sanitizer stations, rearranging classrooms to enable physical distancing, and frequent cleaning. The CDC made a School Decision Tree to aid administrators in the planning process for reopening. The American Academy of Pediatrics urges re-entry policies need to be flexible and responsive as new information about the virus emerges.The National Academies of Sciences, Engineering, and Medicine states that in-person instruction for grades K-5 and students with special needs should be prioritized to prevent children from falling behind. Younger children are at higher risk of suffering from long-term academic consequences and developmental deficits without in-person learning.\\n\\n\\n== Academic integrity ==\\nThe impact on academic integrity has been observed around the world.  A rise in contract cheating, academic file-sharing, and exam cheating were identified as particularly problematic.  With remote learning, cheating has become far easier for students.  There is no remorse from students who would rather succeed in class than learn.  Online education has also exposed various as yet unresolved legal issues, including copyright and unapproved misuse of lectures.Many institutions turned to commercial services to take over exam proctoring, but almost immediately concerns were raised about student privacy, surveillance, and the impact on student mental health.The lack of student to teacher interaction also led students to feel less passionate about the integrity of their work. Students turned in half-completed assignments, got the answers from friends in class, or turned in nothing at all simply because education became less important due to COVID-19.\\n\\n\\n== Gender disparities ==\\n\\nThe COVID-19 pandemic has widened the gender gap in education between females and males.  The rapid spread of COVID-19 forced many females into the traditional roles as caretakers.  Common gender disparities that impact a female\\'s education during the pandemic are finances enabling higher dropout rates, domestic violence, child marriage, early pregnancy, and exploitation of child labor. Female caretakers drop out of schools to provide care for sick family members and/or become a source of income for their families. In settings with gender disparities in rates of school completion, girls are at increased risk of not returning to school after lockdown if tasked with income-generating activities or caretaking or they become pregnant. There is a correlation between increased unemployment rates with higher female school dropout rates. Malala Fund research estimates that as a result of the pandemic, 20 million girls in developing countries may never return to the classroom. Consequently, there is a decreased level of women returning to school, particularly in nations with poverty. Out of the total population of students enrolled in education globally, UNESCO estimates that over 89% are currently out of school because of COVID-19 closures. This represents 1.54 billion children, and youth enrolled in school or university, including nearly 743 million girls. During the pandemic, females attending school reported encountering technical challenges with remote learning. Using data from the National Study STEM faculty and students (NSSFS) collected 2020, the report describes gender disparities in experiences of transitioning to remote teaching/learning among US STEM faculty and students. According to the survey, females reported higher technical challenges in remote learning against their male counterparts. The two main areas that females found challenging in remote learning were adaptability to the course design and transitioning from face-to-face school to remote online learning curriculums. Countries with poverty reported increased gender disparities as families could not afford internet usage in low-income households to pay for female education. Additionally, there was a preference in male over female education as they were seen as sole providers. Over 111 million of these girls are living in the world\\'s least developed countries where getting an education is already a struggle. These are contexts of extreme poverty, economic vulnerability, and crisis where gender disparities in education are highest. In Mali, Niger, and South Sudan — 3 countries with some of the lowest enrolment and completion rates for girls — closures have forced over 4 million girls out of school. The broadened gap in gender disparities impacts female education that will exceed beyond the pandemic and seep into their futures. There have been several efforts by UNESCO and other organizations to raise funds for female education, but due to the financial hardships of the pandemic, those efforts have fallen short. Lack of government involvement in the issue and inability to address the increasing concerns of gender disparities in education during the pandemic has limited educational opportunities for females globally.\\n\\n\\n== Racial disparities ==\\nThe impact of COVID-19 on racial disparities in online learning during the pandemic has received research attention. A recent study from the Urban Institute covers some of these findings. Urban\\'s study points to issues in access to a computer and internet. A 2018 survey of households showed that 48% of surveyed households of Alaskan Natives did not have access to computers compared to 35% of Black households, 35% Latino, and 19% White. Minimal access to computers and the internet was found in 1.3 to 1.4 times as many Black and Hispanic households with school-aged children as it was in white households, with more than two out of five low-income households having just limited access.A 2021 report from the Black Education Research Collective analyzes the impact of COVID-19 pandemic on Black education. It evaluates how Black students, parents, educators and community members experience systemic racism during COVID. The study seeks to show how the pandemic has interrupted education across the country, highlighting existing racial and economic inequities. The study also argues that even before the outbreak, students in vulnerable neighborhoods, primarily Black, Indigenous, and other majority-minority areas, faced disparities in everything from resources (ranging from books to counselors) to student-teacher ratios and extracurricular activities.\\n\\n\\n== Timeline ==\\n26 January: China was the first country which instituted measures to contain the COVID-19 outbreak including extending the Spring Festival holiday and became the first to close all universities and schools around the country.\\n4 March: UNESCO released the first global numbers on school closures and affected students on 3 March. It reported that 22 countries on three continents had enacted preventive measures including the temporary closure of schools and universities, impacting 290.5 million students around the world. In reaction, UNESCO called on countries to support affected students and families and facilitate large-scale inclusive distance learning programmes.5 March: The majority of learners affected by COVID-19 emergency measures were located in China, with 233 million learners affected, followed by Japan at 16.5 million and Iran at 14.5 million.10 March: One in five students worldwide was \"staying away from school due to the COVID-19 crisis\" while another one in four was barred from higher education institutions, according to UNESCO.13–16 March: National governments in 49 countries announced or implemented school closures on 13 March, including 39 countries which closed schools nationwide and 22 countries with localised school closures. By 16 March, this figure increased to 73 countries according to UNESCO.19 March: A total of 50% of the students worldwide were affected by school closures, corresponding to nationwide closures in 102 countries and local closures in 11 countries affecting 1 billion people.20 March: Over 70% of the world\\'s learners were impacted by closures, with 124 country-wide school closures.27 March: Nearly 90% of the world\\'s student population was out of class.29 March: More than 1.5 billion children and other students were affected by nationwide school closures. Others were disrupted by localized closures.Mid-April: A total of 1.725 billion students globally had been affected by the closure of schools and higher education institutions in response to the COVID-19 pandemic. According to the UNESCO Monitoring Report, 192 countries had implemented nationwide closures, affecting about 99% of the world\\'s student population.\\n30 June: The CDC revised its guidelines for institutes of primary, secondary, and tertiary education, in which it expressly did not recommend the universal testing of students and staff. Rather, the CDC only recommended testing people who are exhibiting COVID-19 symptoms or who have come into contact with a known COVID-19 case.As of 12 January 2021, approximately 825 million learners are currently affected due to school closures in response to the pandemic. According to UNICEF monitoring, 23 countries are currently implementing nationwide closures and 40 are implementing local closures, impacting about 47 percent of the world\\'s student population. 112 countries\\' schools are currently open.\\n\\n\\n== School closures ==\\n\\n\\n=== Country-wide closures ===\\nNotes\\na^  Data on enrolment in tertiary education programmes is not available.\\nb^  Schools have started opening, but the majority remain closed.\\nc^  While all schools are open, universities have the choice to remain open or not.\\nd^  Universities are currently on school spring break, and hence closures not related to the coronavirus.\\ne^  Universities have postponed the beginning of the academic year by two weeks to 16 March.\\nf^  Most universities remain open.\\ngg All educational institutions have opened.\\n\\n\\n=== Localised closures ===\\nAs of 12 January 2021, 40 countries have localised school closures. UNESCO estimates 473,933,356 learners are potentially at risk (pre-primary to upper-secondary education) and 77,938,904 learners are potentially at risk in tertiary education.\\nNotes\\na^  Figures correspond to total number of learners enrolled at pre-primary, primary, lower-secondary, and upper-secondary levels of education (ISCED levels 0 to 3), as well as at tertiary education levels (ISCED levels 5 to 8) who could be affected should localised closures become countrywide. Enrolment figures based on latest UNESCO Institute of Statistics data.\\nb^  All educational institutions are open.\\n\\n\\n== Consequences of school closures ==\\n\\nSchool closures in response to the COVID-19 pandemic have shed a light on numerous issues affecting access to education, as well as broader socio-economic issues. As of 12 March, more than 370 million children and youth are not attending school because of temporary or indefinite country wide school closures mandated by governments in an attempt to slow the spread of COVID-19. As of 29 March, nearly 90% of the world\\'s learners were impacted by closures.According to the United Nations International Children\\'s Fund (UNICEF), the COVID-19 pandemic has affected more than 91% of students worldwide, with approximately 1.6 billion children and youngsters unable to attend physical schools due to temporary closures and lockdowns.Even when school closures are temporary, it carries high social and economic costs. The disruptions they cause affect people across communities, but their impact is more severe for disadvantaged children and their families including interrupted learning, compromised nutrition, childcare problems and consequent economic cost to families who cannot work. According to Studi Economici Dell\\'Ocse (OECD) studies, school performance hinges critically on maintaining close relationships with teachers. This is particularly true for students from disadvantaged backgrounds, who may not have the parental support needed to learn on their own. Working parents are more likely to miss work when schools close in order to take care of their children, incurring wage loss in many instances and negatively impacting productivity. Localised school closures place burdens on schools as parents and officials redirect children to schools that are open.It is also highly likely that the COVID-19 pandemic and school closures will further exacerbate the learning crisis occurring across the globe. \\n\\n\\n=== Strain on healthcare workforce ===\\nWomen make up almost 70% of the healthcare workforce, exposing them to a greater risk of infection.  They often cannot attend work because of childcare obligations that result from school closures.  In fact, in the U.S., the healthcare sector has one of the highest rates of childcare obligations in the broader economy, with approximately 28.8% of the workforce responsible for providing care to children aged 3–12.  At best, this means that school closures put pressure on health workers in systems already strained by COVID-19 caseloads.  At worst, this means that some medical professionals may miss work at health facilities altogether.\\n\\n\\n=== Online learning ===\\n\\nOnline learning has become a critical lifeline for education, as institutions seek to minimize the potential for community transmission. Technology can enable teachers and students to access specialized materials well beyond textbooks, in multiple formats and in ways that can bridge time and space. Online learning solutions can take many forms, including high-tech solutions such as tablet-based adaptive learning software or low-tech solutions such as radio, sms, and instructional television. Teachers may  operate in dual mode, teaching local and remote learners simultaneously.Due to the COVID-19 pandemic, many schools across the world began conducting classes via videotelephony software such as Zoom, Google Classroom and/or Google Meet. The Organisation for Economic Co-operation and Development has created a framework to guide an education response to the COVID-19 pandemic for distance learning. Whenever this was possible, the ability to teach in real time significantly helped educators handle the transition, in comparison with their colleagues who had to rely on asynchronous instruction.\\n\\n\\n==== Unequal access to technology ====\\nLack of access to technology or fast, reliable internet access can prevent students in rural areas and from disadvantaged families. Lack of access to technology or good internet connectivity is an obstacle to continued learning, especially for students from disadvantaged families. Teachers have reported that students are more likely to complete assignments if they have access to internet at home. In response to school closures caused by COVID-19, UNESCO recommends the use of distance learning programmes and open educational applications and platforms that schools and teachers can use to reach learners remotely and limit the disruption of education. However, in regions where online learning is not feasible, due to a lack of access to distance learning tools such as smart phones and internet connectivity, some parents have resorted to child labor or early marriage as a means to cope with the financial stress placed on them by the pandemic.To aid in slowing the transmission of COVID-19, hundreds of libraries have temporarily closed. In the United States, numerous major cities announced public library closures, including Los Angeles, San Francisco, Seattle, and New York City, affecting 221 libraries. For students without internet at home, this increases the difficulty of keeping up with distance learning.Yale economist Fabrizio Zilibotti co-authored a January 2022 study with professors from the University of Pennsylvania, Northwestern University and the University of Amsterdam, showing that unequal access to technology during \"the pandemic is widening educational inequality and that the learning gaps created by the crisis will persist.\"\\n\\n\\n==== Copyright ====\\nLack of limitations and exceptions to copyright can also have an impact on the ability of students to access the textbooks and materials they need to study. Several initiatives were taken to grant that students and teachers can have access to open educational resources, or understand copyright limitations. The International Council for Open and Distance Education issued a special website to provide webinars, tips for online teaching and resources for teachers.In New Zealand, a group of publishers agreed to allow for virtual public readings of their materials from libraries and classrooms. A similar agreement took place in Australia, where the Australian Publishers Association, the Australian Library and Information Association and the Australian Society of Authors agreed on a set of exceptional measures to allow libraries to provide educational content. The Australian organization AMCOS agreed to give a gratis license for all their music sheets to all schools across Australia.An advocacy organization in Netherlands launched a website to allow teachers use free-licensed music and video for their classes.A coalition of over 500 civil society organizations and individuals issued a letter to Francis Gurry, Director of the World Intellectual Property Organization, asking, among other things, a special set of limitations and exceptions to copyright for the duration of the pandemic.Several organizations are also working to explain to teachers how to navigate complex copyright scenarios. The National Copyright Unit of Australia, a specialist copyright team responsible for copyright policy and administration for Australian schools and TAFE, issued a set of recommendations to follow on copyright issues while doing remote learning and a set of recommendations for using openly licensed content, specially aimed to parents supporting students.  Centrum Cyfrowe in Poland is holding open calls to support the work of teachers and educators leading in the open education sector. The Program on Information Justice and Intellectual Property at the American University is holding a set of webinars for different educators to guide them through copyright issues when delivering online teaching and how to address best practices for fair use.\\n\\n\\n=== Childcare ===\\n\\nClosures of early childhood education and care (ECEC) as well as schools increases work-family conflicts particularly for parents with younger children who are in more need of care and supervision of distance learning. School closures puts a strain on parents and guardians to provide childcare and manage distance learning while children are out of school. In the absence of alternative options, working parents often leave children alone when schools close and this can lead to risky behaviours, including increased influence of peer pressure and substance abuse. Alternatively, in some emerging economies, parents may resort to bringing their children to work and engaging them in menial labor, as has been the case in Maharashtra, India, where some out-of-school teenagers have been working in sugar cane fields alongside their day laborer parents.In the United States, as of early April, more than half of existing childcare programs had shut down at least temporarily and were not serving any children.\\n\\n\\n=== Women in the workforce ===\\nMany working mothers dropped out of the labor force to take care of their children during school closures and online learning. In places where part-time school attendance or fully virtual learning is implemented, working parents are typically left with a choice of either arranging childcare or to stop working during days when their children are not at school. However, childcare is often difficult to find or unaffordable, due to its increased demand and closures of daycare centers during the pandemic, making it not a viable option for many parents.Due to the difficulty of securing accommodations and flexibility from their employers to allow them to take care of their children, women in the United States, particularly Black and Latina women, have lost a disproportionate share of jobs since the beginning of the pandemic. These include forced attritions from women being unable to meet their productivity goals, and voluntary resignations from women who face too much pressure from managing both their paid and unpaid responsibilities. In many cases, women in the workforce were unable to afford private childcare, hence necessitating them to take a leave of absence from work or resigning from their job. A spring 2021 academic study suggested that a much larger proportion of mothers left the workforce in US states where schools offered primarily remote education. Between February 2020 and 2021, more than 2.3 million women in the US have left the labor force. In January 2021, only 57% of American women participated in the labor force, the lowest rate in 33 years.A study from Washington University in St. Louis found that mothers have reduced their paid working hours four to five times more than fathers from February to April 2020, which widened the gender gap in working hours by a maximum of 50%. According to authors of the study, the disparity may lead to droves of women leaving the workforce and massive layoffs for women. Betsey Stevenson, an economist at the University of Michigan, warned that the exodus of women from the workforce during the pandemic may lead to long-term impacts in women\\'s labor market outcomes. Because working hours are a major cause of the gender pay gap, and periods of non-employment has adverse impacts on future earnings and job mobility, experts warn that the pandemic-induced reduction can set women\\'s advancement back for decades.\\n\\n\\n=== Nutrition and food insecurity ===\\nNutrition plays a critical role in cognitive development and academic performance for children. Many children worldwide rely on free or discounted meals at schools. When schools close, nutrition is especially compromised for children in schools where food is provided.In the United States, school lunch programmes are the second-biggest anti-hunger initiative after food stamps. Every year, nearly 30 million children rely on schools to provide free or low-cost meals including breakfast, lunch, snacks, and even dinner. In Washington State, around 45% of the states 1.1 million students enrolled in traditional public and charter schools qualify for subsidised school meals. At least 520,000 students and their families may be affected by food insecurity as a result of school closures. In Alabama, where state-wide school closures as of 18 March have affected over 720,000 students, the state Superintendent announced that staff in schools disproportionately affected by poverty would create meal distribution networks to provide food for students who rely on school lunches.Many families with low income qualify for school lunch programs funded by the federal government and subsidized at the state level.  Due to this need in our society, schools are required to stay open amid the COVID-19 crisis to provide meals to children who qualify for free or reduced rate meals. School have become creative and they send out a weekly survey to reach every student who will need a free or reduced lunch.In the UK, footballer Marcus Rashford pushed the government to extend free school meals over the summer holidays in August. It was voted out at first, by 61 votes. However, in a U-turn, Boris Johnson\\'s government changed it and agreed to carry on paying. Rashford was given an MBE for his efforts.\\n\\n\\n=== Student learning outcomes ===\\n\\nSchool closures negatively impact student learning outcomes. Schooling provides essential learning and when schools close, children and youth are deprived opportunities for growth and development. The disadvantages are disproportionate for under-privileged learners who tend to have fewer educational opportunities beyond school. When schools close, parents are often asked to facilitate the learning of children at home and can struggle to perform this task. This is especially true for parents with limited education and resources.Students gain literacy slower during school closures than in a business-as-usual academic year. It has been estimated that the rate of reading ability gain in kindergarten children in the U.S. slows down by 66% during school closures compared to active schooling. A recent study of the effect of the 2005 Kashmir Earthquake found that school closures of an average of 14 weeks has resulted in affected children being 1.5 to 2 years behind their peers who were unaffected by the disaster and its resulting school closures. In practical terms, this learning loss could result in affected children earning 15% less in every adult year of their lives.Student drop-out rates tend to increase as an effect of school closures due to the challenge of ensuring all students return to school once school closures ends. This is especially true of protracted closures. Disadvantaged, at-risk, or homeless children are more likely not to return to school after the closures are ended, and the effect will often be a life-long disadvantage from lost opportunities.Schools are also hubs of social activity and human interaction. When schools are closed, many children and youth miss out on social contact that is essential to learning and development. Accordingly, teachers\\' perception of student coping significantly decreased with each education level handled, with university instructors finding their students to handle the situation much better than elementary school teachers did.\\n\\n\\n=== Inaccessibility to mitigation strategies ===\\n\\nThe effect of school closure on academic achievement has been studied in the summer months. Many of the strategies used to prevent academic slump, such as attending summer school, visiting libraries, and/or participating in literacy-rich summer-based activities are not available during the pandemic. Reading every day to a child, an option available while staying at home, reduced the rate of loss by 42%.\\n\\n\\n=== Special education services ===\\nPotential impacts of school closures and reliance on distance learning are not addressed in US federal acts of legislation in the early months of the pandemic. Special education students are potentially one of the most impacted groups of COVID-19. Educators continue to focus on implementing strategies to deliver services and accommodations in virtual, hybrid, and in person settings. However, information of how severe they have been affected, and how and if their grades will be affected due to their status and how this would affect their future are currently not specified.\\n\\n\\n=== Effect on COVID-19 cases and mortality ===\\nThe effect of school closure on COVID-19 cases and mortality has been examined in multiple studies. \\nIn a study that looked specifically at school closure in the United States, closure of schools was associated with 1.37 million fewer cases and 40,600 fewer deaths from COVID-19 in a six-week study period. However, two international studies examining the impact of reopening schools from kindergarten to grade 12 found no consistent relationship between the reopening of these schools and the spread of COVID-19, with another study from the United States showing no increased risk to childcare workers who continued to work. Other studies that looked at multiple policy changes have shown more modest changes associated with school closure.\\n\\n\\n== Impact on formal education ==\\n\\nFormal education — as opposed to informal education or non-formal education — tends to refer to schools, colleges, universities and training institutions. A 1974 report by the World Bank defined formal education as the following:Formal education: the hierarchically structured, chronologically graded \"education system\", running from primary school through the university and including, in addition to general academic studies, a variety of specialised programmes and institutions for full-time technical and professional training.The majority of data collected on the number of students and learners impacted by COVID-19 has been calculated based on the closure of formal education systems. The UNESCO Institute for Statistics provides figures on students impacted by COVID-19 corresponding to the number of learners enrolled at pre-primary, primary, lower-secondary, and upper-secondary levels of education (ISCED levels 0 to 3), as well as at tertiary education levels (ISCED levels 5 to 8). On average, teachers in K-primary schools were coping worse with the transition than high school educators and university instructors.\\n\\n\\n=== Early childhood education ===\\n\\nEarly childhood educational programmes are usually designed for children below the age of 3 and may refer to preschools, nursery schools, kindergartens, and some day care programmes. While many primary and secondary schools have closed around the world due to COVID-19, measures impacting early childhood educational programmes have varied. In some countries and territories for instance in Australia preschools and day cares are considered necessary services and have not closed in tandem with broader school closure measures.In the United States, the Washington State Department of Children, Youth, and Families encouraged child care and early learning centres to stay open. Some school districts may offer alternative child care options, prioritising the children of first responders and healthcare workers. The governor of Maryland mandated that specific child care services remain open for the children of emergency personnel while Washington State and California have left it to the discretion of care providers. California Governor Gavin Newsom explained his state\\'s position, saying \"We need our child care facilities, our daycare centers, to operate to absorb the impact of these school closures.\" Colorado has encouraged the development of \"tool kits\" for parents to use at home to emulate the lessons children would have received in their early learning programmes. Over a million eligible American children were not enrolled in kindergarten for the 2021–2022 school year. The 2022 annual Report on the Condition of Education conducted by the National Center for Education Statistics (NCES) for the U.S. Department of Education indicates that, during 2019 to 2020, there was a 13% decrease in enrollment for eligible students  aged three and four, from 54% to 40%.In Japan, Prime Minister Shinzo Abe closed all schools throughout the country until 8 April, however, children\\'s daycare facilities were excluded. In early March, five adults associated with a nursing facility for preschool children in Kobe tested positive for coronavirus. After testing over one hundred children at the facility, a preschool student was found to be carrying the virus.\\n\\n\\n=== Primary ===\\n\\nPrimary or elementary education typically consists of the first four to seven years of formal education. Kindergarten is the first time children participate in formal education. Based on a comparison of longitudinal literacy data in kindergarten-aged students during a spring semester of schooling versus during summer vacation, one study predicted that COVID-19 school closures would slow the rate of literacy ability gain by 66% in kindergarten children in the absence of mitigating alternative educational strategies.  The study estimates that over an 8-month period from 1 January to 1 September 2020, assuming school closures from 16 March to 1 September 2020 (and taking into account the summer vacation that would have still normally taken place during that time), that these kindergarten children would have gained 31% less literacy ability on average than if school closures had not occurred. In the United States, there was a 6% decrease in kindergarten enrollment rates for the 2019 - 2020 school year for those aged five, dropping from 91% to 84%.\\n\\n\\n=== Secondary ===\\nSecondary education is in most countries the phase in the education continuum responsible for the development of the young during their adolescence, the most rapid phase of their physical, mental and emotional growth. However, according to many researchers, secondary education students have lost the structure they need in order to thrive in the secondary environment. Instead, students struggle with self-sufficiency and are at risk of falling behind due to distractors in their home and online. The social-emotional wellbeing of secondary students is also of concern with a recent survey citing that 80% of students have experienced some negative impact to their mental health due to the pandemic. 20% say their mental health has significantly worsened. The Center for Disease Control (CDC) suggests that students should get plenty of rest, exercise regularly, and eat well-balanced meals in order to assist in coping with the mental stressors of the pandemic.In the United States, standardized tests for college admissions that are taken near the end of secondary education, such as the SAT and ACT, have adapted to administer in person exams at lower capacity and obeying precautionary measures. Online proctoring has also been explored as a method of making the test more accessible. An online edition of the TOEFL exam is now available for students to take at home. Additionally, many colleges and universities have moved away from requiring standardized tests for admissions, or making the requirement optional.The International Baccalaureate Organization (IBO) cancelled the examinations for its Diploma Programme and Career-related Programme candidates scheduled between 30 April and 22 May 2020, reportedly affecting more than 200,000 students worldwide. The IBO stated that it would award candidates their diplomas or certificates based on \"their coursework\" and \"the established  assessment expertise, rigor, and quality control already built into the programme.\" College Board has begun offering both in person and online testing for Advanced Placement exams in the 2020–2021 school year.\\n\\n\\n=== Private schools in the United States ===\\nOne effect of the COVID-19 outbreak in the United States has come in the form of increases in private school enrollment. Many parents seeking out private school instruction need a place to send their child due to the parents need to work outside of the home. Despite the high cost of private schools, parents find that the tuition cost to be worth it.An unintended consequence of this migration to private schooling is the widening inequality gap between families that can afford private school tuition and those who cannot. These families often have their children at home in virtual learning environments. Issues like poor broadband connection and the inability for parents to properly support their children\\'s learning due to lack of English language skills or work conflicts will see certain students fall behind academically.\\n\\n\\n=== Primary and secondary schools in Kenya ===\\nA study on \"teachers\\' and parents\\' preparedness to support virtual learning during the COVID-19 pandemic in Kenya\" shows that most parents and teachers were not prepared to support virtual learning. This issue affected all schools: public 8-4-4 schools, private 8-4-4 schools, international schools, and private schools in the country. This points to a weak support system for virtual education in Kenyan schools during COVID-19 outbreak affecting virtual learning delivery.\\n\\n\\n=== Grade deflation ===\\nHowever, the IBO came under heavy criticism worldwide for their methods in calculating the students\\' final grades and their \"Enquiry upon results\" (EUR) strategy after results were released on 6 July 2020. Consequently, many students not only received much lower grades than what they were predicted to by their teachers but also missed the entrance requirements to every university they applied to, affecting approximately 170,000 students in 153 countries. As a result, petitions that garnered dozens of thousands of signatures were created online with the hashtag \"IBSCANDAL\" becoming viral, schools and people have lost confidence with the education company and are considering other alternatives for secondary education, and educational reforms are being suggested where students will deviate away from taking significant examinations in the future.\\n\\n\\n=== Higher Education ===\\n\\nTertiary education, also known as higher education, refers to the non-compulsory educational levels that follow completion of secondary school or high school. Tertiary education is normally taken to include undergraduate and postgraduate education, as well as vocational education and training.  Individuals who complete tertiary education generally receive certificates, diplomas, or academic degrees.\\t\\nFor higher education, the preparation of the future workforce is a key priority. Many occupations rely on education that has been supported through campus-focused activities such as face-to-face interactions with other students, work-integrated learning, and further hands-on exercises. For example, the healthcare workforce of doctors, nurses, and  allied health professionals have been trained by in-person observations - similar to the apprenticeship model. In-person education has been shown to create stronger student-tutor and student-student interactions and relationships, which can promote better engagement. With COVID-19 and the pivot to distance learning, a similar level of depth is highly difficult to achieve. More evidence on feasibility, benefits, and obstacles is needed to analyze the drivers of economic impact for the various types of initiatives introduced in online education. \\n\\n\\n==== Undergraduate education ====\\n\\nUndergraduate education is education conducted after secondary education and prior to post-graduate education, for which the learner is typically awarded a bachelor\\'s degree.The closure of colleges and universities has widespread individual, organizational, and learning and teaching implications for students, faculty, administrators, and the institutions themselves. The initial period of rapid adaption during 2020 contained three primary responses to COVID-19: minimal legal response, delayed commencement of study periods, and rapid digitalization of curriculum. Thoughts about what to make of this situation resulted in optional learning online or in person depending on what the university declared as being mandatory.Millions of students are expected to defer the start of their studies for their undergraduate degree to a later year due to the pandemic. This not only will negatively affect the future university intake process due to shortages in places available but universities worldwide are expected to lose billions of USD in equivalent due to the number of students expected to study at university in the 2020–2021 academic year.Colleges and universities across the United States have been called upon to issue refunds to students for the cost of tuition and room and board.While $6 billion in emergency relief is to be made available to students during the pandemic, Education Secretary Betsy DeVos decided on 21 April 2020 that it will only be made available to those students who are also already eligible for federal financial aid. This rule will exclude tens of thousands of undocumented students who participate in the government\\'s Deferred Action for Childhood Arrivals (DACA, or \"Dreamers\") program from being able to receive emergency relief funds.Apart from colleges losing vast amounts of income undergraduate students themselves have lost vast amounts of imperative education due to COVID-19. With the lack of regular education amongst all students, learning seems harder to manage. Before the COVID-19 pandemic, college students would have in-person classes, in-person office hours, and in-person extracurricular activities. However, the pandemic has created an atmosphere where students who have an idea about their future occupation, are learning essential information behind a screen. These changes have made focusing on classes built around a students selected major very difficult, as they are not experiencing what they are passionate about to the fullest extent. The result of this is lost passion for specific subjects, the inability to focus on crucial information, and tainted academic integrity all over.\\n\\n\\n===== Impact on local economies =====\\nIn the United States of America, colleges and universities operate as \"mini-cities\" which generate significant revenue for cities, states, and regions. For example, Princeton University estimated in 2017 that it contributed $1.58 billion USD per year to the New Jersey economy, and that students spent about $60 million in off-campus spending. College and university closures have a domino effect on economies with far-reaching implications.In March, Linda Bilmes of the Harvard Kennedy School noted that \"local hotels, restaurants, cafes, shops, car rental agencies and other local businesses obtain a significant share of annual revenue from graduation week and college reunions... these communities will suffer a lot of economic damage if the colleges remain closed at that time.\"Small towns which rely on college students to support the local economy and provide labour to local businesses are especially impacted by school closures and the exodus of students from campus. In Ithaca, New York, Cornell University students spent at least $4 million a week in Tompkins County. In the wake of Cornell\\'s decision to keep students home following spring break and transition to virtual instruction, the Mayor of Ithaca called for \"immediate and forceful federal action — we will see a horrific economic impact as a result of Cornell University closing.\"\\n\\n\\n== Impact on International Students in the United States ==\\nInternational students have contributed to various aspects of education such as diversity, research, cultural enrichment, and economics.  They often pay a higher price for education and face higher risks without governmental and administrative protection in times of crisis.  COVID-19 is such a time.\\nDuring the COVID-19 pandemic, international students face disadvantages compared to nationals.  This was mainly due to immigration-related governmental decisions of \"border-closings, drastic visa, and immigration policy changes\" (Mbous et al., 2022). International students had a higher rate of mental and depressive disorders compared to local students.The pandemic forced changes in lifestyle.  The most important change is the use of technology,with an increase in computer screen time.  Consequently, it leads to an increase in utility consumption. However, international students were not eligible for government\\'s financial support. In addition, the health care cost for international students in the U.S. was significantly higher than American citizens and residents.  This healthcare-related financial burden became more significant during a health emergency such as COVID-19, causing international students extra financial stress and concerns.Changes in academic style were the opposite of what international students expect from an American education.  The lack of in-person peer interaction and social and professional networks, and limited access to in-school resources and amenities all diminished the quality of istudents\\' lives and work.  International students had to adapt to these academic obstacles on top of the usual challenges during normal times.\\n\\n\\n=== Decrease of International Students Population in the U.S. ===\\nThe Immigration and Customs Enforcement (ICE) reports data that shows significant decreased in the population of international students in the United States across different categories in 2020 compared to 2019. The most notable decrease in international students population in 2020 in the U.S. comes from the reduction in number of new enrolled students as a result from border closing, international flight cancellations, and changes in immigration policies.\\n\\n\\n=== \"America-First\" policy ===\\nMany immigration policies were introduced to either force international students who are taking online courses out of the United States, or prevent them from reentering.  International students in institutions that switched to fully remote operation were legally required to leave the U.S. quickly and were not assisted in getting means of transportation.  Students with F-1 visa that attended institutions that have mixed remote and in-person operation, are restricted to only taking one course online and the remaining courses in-person.  International students were also required to obtain a special certificate from their school to prove that their school program is not entirely online and that they are taking the appropriate number of online classes.  No similar restricting policies was issued for American students.\\n\\n\\n== Responses to the crisis ==\\n\\n\\n=== UNESCO recommendations ===\\n\\nUNESCO made ten recommendations for engaging in online learning:\\n\\nExamine the readiness and choose the most relevant tools: Decide on the use high-technology and low-technology solutions based on the reliability of local power supplies, internet connectivity, and digital skills of teachers and students. This could range through integrated digital learning platforms, video lessons, MOOCs, to broadcasting through radios and TVs.\\nEnsure inclusion of the distance learning programmes: Implement measures to ensure that students including those with disabilities or from low-income backgrounds have access to distance learning programmes, if only a limited number of them have access to digital devices. Consider temporarily decentralising such devices from computer labs to families and support them with internet connectivity.\\nProtect data privacy and data security: Assess data security when uploading data or educational resources to web spaces, as well as when sharing them with other organisations or individuals. Ensure that the use of applications and platforms does not violate students\\' data privacy.\\nPrioritize solutions to address psychosocial challenges before teaching: Mobilize available tools to connect schools, parents, teachers, and students with each other. Create communities to ensure regular human interactions, enable social caring measures, and address possible psychosocial challenges that students may face when they are isolated.\\nPlan the study schedule of the distance learning programmes: Organise discussions with stakeholders to examine the possible duration of school closures and decide whether the distance learning programme should focus on teaching new knowledge or enhance students\\' knowledge of prior lessons. Plan the schedule depending on the situation of the affected zones, level of studies, needs of students needs, and availability of parents. Choose the appropriate learning methodologies based on the status of school closures and home-based quarantines. Avoid learning methodologies that require face-to-face communication.\\nProvide support to teachers and parents on the use of digital tools: Organise brief training or orientation sessions for teachers and parents as well, if monitoring and facilitation are needed. Help teachers to prepare the basic settings such as solutions to the use of internet data if they are required to provide live streaming of lessons.\\nBlend appropriate approaches and limit the number of applications and platforms: Blend tools or media that are available for most students, both for synchronous communication and lessons, and for asynchronous learning. Avoid overloading students and parents by asking them to download and test too many applications or platforms.\\nDevelop distance learning rules and monitor students\\' learning process: Define the rules with parents and students on distance learning. Design formative questions, tests, or exercises to monitor closely students\\' learning process. Try to use tools to support submission of students\\' feedback and avoid overloading parents by requesting them to scan and send students\\' feedback\\nDefine the duration of distance learning units based on students\\' self-regulation skills: Keep a coherent timing according to the level of the students\\' self-regulation and metacognitive abilities especially for livestreaming classes. Preferably, the unit for primary school students should not be more than 20 minutes, and no longer than 40 minutes for secondary school students.\\nCreate communities and enhance connection: Create communities of teachers, parents, and school managers to address sense of loneliness or helplessness, facilitate sharing of experience and discussion on coping strategies when facing learning difficulties.\\n\\n\\n=== Open Education Community response ===\\nOpen Education community members have shared open educational resources (OER) in response to COVID-19, including:\\n\\nCommonwealth of Learning created the resource \"Keeping the doors of learning open\". The project brings together a curated list of resources for policymakers, school and college administrators, teachers, parents and learners that will assist with student learning during the closure of educational institutions. Most of these are available as OER.\\nCommunity Contributed Open Educational Resources for Teaching and Learning in the COVID-19 Era is a co-created spreadsheet of resources. There are multiple tabs on the spreadsheet providing links to: K-12 (primary / secondary) resources, OER repositories, OER toolkits, student support, online teaching, and more.\\nOERu online courses is a resource to build capacity in the design and development of OER-enabled online learning. The OERu offers two facilitated online courses including free access to a competency certification in copyright and Creative Commons licensing. These courses will provide skills for participants wanting to design and publish their own online courses using the OERu\\'s open source, component-based digital learning environment.\\nTeaching and Learning Online is a website by SkillsCommons and MERLOT that offers a free online resource page in response to COVID-19. This page helps teachers and students prepare to start teaching and learning online.\\nThe University of Arizona University Libraries created a \"Library Support for Shifting to Online Teaching\" page and a Free-to-Use Course Materials webinar.\\nWirLernenOnline is a German online platform to find learning material for digital lessons in primary school, secondary school, upper secondary and vocational education.\\n\\n\\n== Online learning platforms ==\\n\\n\\n=== Coursera ===\\nWith schools closed, demand for online education platforms has increased. Coursera, which can be taught online, also grew significantly during the pandemic.\\nCoursera saw 59% revenue growth year over year, largely due to a pandemic-induced boom in digital learning.\\nTotal registered users in 2020 grew 65% over 2019.\\nDuring the pandemic, Coursera also has partnered with more than 330 government agencies across 70 countries and 30 US states and cities as part of the Coursera Workforce Recovery Initiative, which helps governments offer unemployed workers free access to thousands of courses for business, technology and data science skills from companies including Amazon and Google.\\n\\n\\n=== Zoom ===\\nThe need for a platform for video conferences and facilitating online classrooms was created by the pandemic. Zoom had significantly grown from a lesser-known work software to one of the most popular video conferencing applications.\\nZoom was founded in 2011 by Eric Yuan and was launched in the beginning of 2013.\\nZoom\\'s revenue in 2020 was four times the amount it was in 2019 \\nIn December in 2019, Zoom had just 10 million daily meeting participants. This number increased significantly due to the pandemic moving classrooms and workspaces online to 350 million.\\nAt the peak of online learning within the pandemic, there were more than 90,000 schools using Zoom.\\nDuring the covid lockdown, Zoom was seeing 200-300 million daily participants.\\nDuring the pandemic, Zoom was one of the fastest growing apps.\\nIn 2021, Zoom generated $4 billion in revenue. https://www.businessofapps.com/data/zoom-statistics/\\n\\n\\n=== Google Classroom ===\\nThe closure of schools created a need for a virtual classroom portal, and Google Classroom served that purpose for many schools. It offered teachers features such as the integration of the Google Suite along with learning management tools for uploading and submitting assignments. Another factor that helped Google Classroom become a large option for schools is the integration with Chromebooks that many schools had already utilized before the pandemic.\\nFrom 2020 to 2021, Google Classroom saw an increase from 40 million to over 150 million users \\n\\n\\n== Vaccination ==\\n\\nOver 1000 colleges in the United States required on-campus students to be fully-vaccinated against COVID-19 for the 2021–2022 academic year. Of those 1000 schools, over 300 also require that students receive a booster shot. These mandates came after over 700,000 COVID cases were linked to U.S. colleges from the start of the pandemic to the end of May 2021. Many of these colleges also required staff and faculty to be fully vaccinated as well, especially after federal vaccine mandates were announced in November 2021.All states have laws that require that universities offer medical exemptions to the vaccine mandate and most also require that Universities offer religious exemptions to the mandate.  Universities took varied approaches to disciplining students who did provide proof of vaccination or have an approved medical or religious exemption. The University of Virginia disenrolled students who did not follow the mandate including 49 students who had already been enrolled in classes for the Fall 2021 semester.\\n\\n\\n== See also ==\\nCOVID-19 at the University of Notre Dame\\nDigital divide\\nHomeschooling during the 2020 COVID-19 pandemic\\nImpact of the COVID-19 pandemic on the arts and cultural heritage\\nImpact of the COVID-19 pandemic on cinema\\nImpact of the COVID-19 pandemic on science and technology\\nImpact of the COVID-19 pandemic on sports\\nImpact of the COVID-19 pandemic on religion\\nDistance education in Chicago Public Schools in 1937\\n\\n\\n== References ==\\n\\n\\n== Sources ==\\n This article incorporates text from a free content work.  Licensed under CC BY-SA 3.0 IGO (license statement/permission). Text taken from 290 million students out of school due to COVID-19: UNESCO releases first global numbers and mobilizes response,   UNESCO. To learn how to add open license text to Wikipedia articles, please see this how-to page. For information on reusing text from Wikipedia, please see the terms of use.\\n This article incorporates text from a free content work.  Licensed under CC BY-SA 3.0 IGO (license statement/permission). Text taken from COVID-19 Educational Disruption and Response,   UNESCO.\\n This article incorporates text from a free content work.  (license statement/permission). Text taken from How to plan distance learning solutions during temporary schools closures,   UNESCO.\\n This article incorporates text from a free content work.  Licensed under CC BY-SA 3.0 IGO (license statement/permission). Text taken from Adverse consequences of school closures,   UNESCO.\\n\\n\\n== External links ==\\n\"COVID-19 Educational Disruption and Response\" from UNESCO'"
      ]
     },
     "execution_count": 86,
     "metadata": {},
     "output_type": "execute_result"
    }
   ],
   "source": [
    "df_new_wiki['Page content'].iloc[0]"
   ]
  },
  {
   "cell_type": "code",
   "execution_count": 87,
   "metadata": {},
   "outputs": [],
   "source": [
    "def wikipedia(sent):\n",
    "    \n",
    "    result = w.search(str(sent))\n",
    "    page = w.page(result[0])\n",
    "    title = page.title\n",
    "    content = page.content\n",
    "    categories = page.categories\n",
    "    links = page.links\n",
    "    references = page.references\n",
    "    summary = page.summary\n",
    "    \n",
    "    return [result, page,\"\" .join(title), \"\" .join(content), \" , \" .join(categories),\" , \" .join(links),\" , \" .join(references), \"\" .join(summary)]\n",
    "\n",
    "    "
   ]
  },
  {
   "cell_type": "code",
   "execution_count": 122,
   "metadata": {},
   "outputs": [],
   "source": [
    "wiki = wikipedia('Terrorism in Pakistan')"
   ]
  },
  {
   "cell_type": "code",
   "execution_count": 123,
   "metadata": {},
   "outputs": [
    {
     "data": {
      "text/plain": [
       "['Terrorism in Pakistan',\n",
       " 'Pakistan and state-sponsored terrorism',\n",
       " 'Anti Terrorism Court of Pakistan',\n",
       " 'Drone strikes in Pakistan',\n",
       " 'Terrorism in India',\n",
       " 'Terrorism',\n",
       " \"Pakistan's role in the War on Terror\",\n",
       " 'Global Terrorism Index',\n",
       " 'Islamic terrorism',\n",
       " 'Insurgency in Jammu and Kashmir']"
      ]
     },
     "execution_count": 123,
     "metadata": {},
     "output_type": "execute_result"
    }
   ],
   "source": [
    "wiki[0]"
   ]
  },
  {
   "cell_type": "code",
   "execution_count": 124,
   "metadata": {},
   "outputs": [],
   "source": [
    "df_wiki = pd.DataFrame(columns=[\"result\", 'page','title', 'content', 'categories','links', 'references', 'summary'])\n",
    "df_wiki['result']=wiki[0]\n",
    "df_wiki['page']=wiki[1]\n",
    "df_wiki['title']= wiki[2]\n",
    "df_wiki['content']= wiki[3]\n",
    "df_wiki['categories']= wiki[4]\n",
    "df_wiki['links']=wiki[5]\n",
    "df_wiki['references']= wiki[6]\n",
    "df_wiki['summary']= wiki[7]"
   ]
  },
  {
   "cell_type": "code",
   "execution_count": 125,
   "metadata": {},
   "outputs": [
    {
     "data": {
      "text/plain": [
       "result                                    Terrorism in Pakistan\n",
       "page                    <WikipediaPage 'Terrorism in Pakistan'>\n",
       "title                                     Terrorism in Pakistan\n",
       "content       Terrorism in Pakistan according to Ministry of...\n",
       "categories    All Wikipedia articles written in Pakistani En...\n",
       "links         2002 Karachi bus bombing , 2003 Quetta mosque ...\n",
       "references    http://www.nybooks.com/articles/archives/2011/...\n",
       "summary       Terrorism in Pakistan according to Ministry of...\n",
       "Name: 0, dtype: object"
      ]
     },
     "execution_count": 125,
     "metadata": {},
     "output_type": "execute_result"
    }
   ],
   "source": [
    "df_wiki.iloc[0]"
   ]
  },
  {
   "cell_type": "code",
   "execution_count": 126,
   "metadata": {},
   "outputs": [],
   "source": [
    "df_wiki.to_csv(\"save_data.csv\", index=False)"
   ]
  },
  {
   "cell_type": "code",
   "execution_count": 127,
   "metadata": {},
   "outputs": [],
   "source": [
    "df_new_wiki= pd.read_csv(\"save_data.csv\")"
   ]
  },
  {
   "cell_type": "code",
   "execution_count": 128,
   "metadata": {},
   "outputs": [
    {
     "data": {
      "text/html": [
       "<div>\n",
       "<style scoped>\n",
       "    .dataframe tbody tr th:only-of-type {\n",
       "        vertical-align: middle;\n",
       "    }\n",
       "\n",
       "    .dataframe tbody tr th {\n",
       "        vertical-align: top;\n",
       "    }\n",
       "\n",
       "    .dataframe thead th {\n",
       "        text-align: right;\n",
       "    }\n",
       "</style>\n",
       "<table border=\"1\" class=\"dataframe\">\n",
       "  <thead>\n",
       "    <tr style=\"text-align: right;\">\n",
       "      <th></th>\n",
       "      <th>result</th>\n",
       "      <th>page</th>\n",
       "      <th>title</th>\n",
       "      <th>content</th>\n",
       "      <th>categories</th>\n",
       "      <th>links</th>\n",
       "      <th>references</th>\n",
       "      <th>summary</th>\n",
       "    </tr>\n",
       "  </thead>\n",
       "  <tbody>\n",
       "    <tr>\n",
       "      <th>0</th>\n",
       "      <td>Terrorism in Pakistan</td>\n",
       "      <td>&lt;WikipediaPage 'Terrorism in Pakistan'&gt;</td>\n",
       "      <td>Terrorism in Pakistan</td>\n",
       "      <td>Terrorism in Pakistan according to Ministry of...</td>\n",
       "      <td>All Wikipedia articles written in Pakistani En...</td>\n",
       "      <td>2002 Karachi bus bombing , 2003 Quetta mosque ...</td>\n",
       "      <td>http://www.nybooks.com/articles/archives/2011/...</td>\n",
       "      <td>Terrorism in Pakistan according to Ministry of...</td>\n",
       "    </tr>\n",
       "    <tr>\n",
       "      <th>1</th>\n",
       "      <td>Pakistan and state-sponsored terrorism</td>\n",
       "      <td>&lt;WikipediaPage 'Terrorism in Pakistan'&gt;</td>\n",
       "      <td>Terrorism in Pakistan</td>\n",
       "      <td>Terrorism in Pakistan according to Ministry of...</td>\n",
       "      <td>All Wikipedia articles written in Pakistani En...</td>\n",
       "      <td>2002 Karachi bus bombing , 2003 Quetta mosque ...</td>\n",
       "      <td>http://www.nybooks.com/articles/archives/2011/...</td>\n",
       "      <td>Terrorism in Pakistan according to Ministry of...</td>\n",
       "    </tr>\n",
       "    <tr>\n",
       "      <th>2</th>\n",
       "      <td>Anti Terrorism Court of Pakistan</td>\n",
       "      <td>&lt;WikipediaPage 'Terrorism in Pakistan'&gt;</td>\n",
       "      <td>Terrorism in Pakistan</td>\n",
       "      <td>Terrorism in Pakistan according to Ministry of...</td>\n",
       "      <td>All Wikipedia articles written in Pakistani En...</td>\n",
       "      <td>2002 Karachi bus bombing , 2003 Quetta mosque ...</td>\n",
       "      <td>http://www.nybooks.com/articles/archives/2011/...</td>\n",
       "      <td>Terrorism in Pakistan according to Ministry of...</td>\n",
       "    </tr>\n",
       "    <tr>\n",
       "      <th>3</th>\n",
       "      <td>Drone strikes in Pakistan</td>\n",
       "      <td>&lt;WikipediaPage 'Terrorism in Pakistan'&gt;</td>\n",
       "      <td>Terrorism in Pakistan</td>\n",
       "      <td>Terrorism in Pakistan according to Ministry of...</td>\n",
       "      <td>All Wikipedia articles written in Pakistani En...</td>\n",
       "      <td>2002 Karachi bus bombing , 2003 Quetta mosque ...</td>\n",
       "      <td>http://www.nybooks.com/articles/archives/2011/...</td>\n",
       "      <td>Terrorism in Pakistan according to Ministry of...</td>\n",
       "    </tr>\n",
       "    <tr>\n",
       "      <th>4</th>\n",
       "      <td>Terrorism in India</td>\n",
       "      <td>&lt;WikipediaPage 'Terrorism in Pakistan'&gt;</td>\n",
       "      <td>Terrorism in Pakistan</td>\n",
       "      <td>Terrorism in Pakistan according to Ministry of...</td>\n",
       "      <td>All Wikipedia articles written in Pakistani En...</td>\n",
       "      <td>2002 Karachi bus bombing , 2003 Quetta mosque ...</td>\n",
       "      <td>http://www.nybooks.com/articles/archives/2011/...</td>\n",
       "      <td>Terrorism in Pakistan according to Ministry of...</td>\n",
       "    </tr>\n",
       "  </tbody>\n",
       "</table>\n",
       "</div>"
      ],
      "text/plain": [
       "                                   result  \\\n",
       "0                   Terrorism in Pakistan   \n",
       "1  Pakistan and state-sponsored terrorism   \n",
       "2        Anti Terrorism Court of Pakistan   \n",
       "3               Drone strikes in Pakistan   \n",
       "4                      Terrorism in India   \n",
       "\n",
       "                                      page                  title  \\\n",
       "0  <WikipediaPage 'Terrorism in Pakistan'>  Terrorism in Pakistan   \n",
       "1  <WikipediaPage 'Terrorism in Pakistan'>  Terrorism in Pakistan   \n",
       "2  <WikipediaPage 'Terrorism in Pakistan'>  Terrorism in Pakistan   \n",
       "3  <WikipediaPage 'Terrorism in Pakistan'>  Terrorism in Pakistan   \n",
       "4  <WikipediaPage 'Terrorism in Pakistan'>  Terrorism in Pakistan   \n",
       "\n",
       "                                             content  \\\n",
       "0  Terrorism in Pakistan according to Ministry of...   \n",
       "1  Terrorism in Pakistan according to Ministry of...   \n",
       "2  Terrorism in Pakistan according to Ministry of...   \n",
       "3  Terrorism in Pakistan according to Ministry of...   \n",
       "4  Terrorism in Pakistan according to Ministry of...   \n",
       "\n",
       "                                          categories  \\\n",
       "0  All Wikipedia articles written in Pakistani En...   \n",
       "1  All Wikipedia articles written in Pakistani En...   \n",
       "2  All Wikipedia articles written in Pakistani En...   \n",
       "3  All Wikipedia articles written in Pakistani En...   \n",
       "4  All Wikipedia articles written in Pakistani En...   \n",
       "\n",
       "                                               links  \\\n",
       "0  2002 Karachi bus bombing , 2003 Quetta mosque ...   \n",
       "1  2002 Karachi bus bombing , 2003 Quetta mosque ...   \n",
       "2  2002 Karachi bus bombing , 2003 Quetta mosque ...   \n",
       "3  2002 Karachi bus bombing , 2003 Quetta mosque ...   \n",
       "4  2002 Karachi bus bombing , 2003 Quetta mosque ...   \n",
       "\n",
       "                                          references  \\\n",
       "0  http://www.nybooks.com/articles/archives/2011/...   \n",
       "1  http://www.nybooks.com/articles/archives/2011/...   \n",
       "2  http://www.nybooks.com/articles/archives/2011/...   \n",
       "3  http://www.nybooks.com/articles/archives/2011/...   \n",
       "4  http://www.nybooks.com/articles/archives/2011/...   \n",
       "\n",
       "                                             summary  \n",
       "0  Terrorism in Pakistan according to Ministry of...  \n",
       "1  Terrorism in Pakistan according to Ministry of...  \n",
       "2  Terrorism in Pakistan according to Ministry of...  \n",
       "3  Terrorism in Pakistan according to Ministry of...  \n",
       "4  Terrorism in Pakistan according to Ministry of...  "
      ]
     },
     "execution_count": 128,
     "metadata": {},
     "output_type": "execute_result"
    }
   ],
   "source": [
    "df_new_wiki.head()"
   ]
  },
  {
   "cell_type": "code",
   "execution_count": null,
   "metadata": {},
   "outputs": [],
   "source": []
  }
 ],
 "metadata": {
  "kernelspec": {
   "display_name": "Python 3 (ipykernel)",
   "language": "python",
   "name": "python3"
  },
  "language_info": {
   "codemirror_mode": {
    "name": "ipython",
    "version": 3
   },
   "file_extension": ".py",
   "mimetype": "text/x-python",
   "name": "python",
   "nbconvert_exporter": "python",
   "pygments_lexer": "ipython3",
   "version": "3.9.12"
  }
 },
 "nbformat": 4,
 "nbformat_minor": 4
}
